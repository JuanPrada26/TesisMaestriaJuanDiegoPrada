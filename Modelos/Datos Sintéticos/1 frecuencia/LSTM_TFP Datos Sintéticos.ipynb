{
 "cells": [
  {
   "cell_type": "markdown",
   "metadata": {},
   "source": [
    "# Librerias"
   ]
  },
  {
   "cell_type": "code",
   "execution_count": 5,
   "metadata": {},
   "outputs": [],
   "source": [
    "import numpy as np\n",
    "import pandas as pd\n",
    "from statsmodels.tsa.seasonal import MSTL\n",
    "from datetime import datetime\n",
    "import pickle\n",
    "import os\n",
    "\n",
    "\n",
    "import matplotlib.pyplot as plt\n",
    "import seaborn as sbn\n",
    "from datetime import datetime\n",
    "\n",
    "import tensorflow as tf\n",
    "from sklearn.preprocessing import MinMaxScaler\n",
    "from sklearn.model_selection import train_test_split\n",
    "from tensorflow.keras.models import Sequential\n",
    "from tensorflow.keras.layers import LSTM, Dense\n",
    "from tensorflow.keras.callbacks import EarlyStopping\n",
    "import tensorflow_privacy\n",
    "\n",
    "from sklearn.metrics import mean_squared_error, mean_absolute_error\n",
    "from tensorflow.keras.models import load_model\n",
    "\n",
    "from tensorflow_privacy.privacy.analysis import compute_dp_sgd_privacy\n",
    "\n",
    "from tensorflow.keras.models import model_from_json\n",
    "import pickle\n",
    "# from tensorflow_privacy import DPKerasAdamOptimizer\n",
    "from tensorflow_privacy.privacy.optimizers.dp_optimizer import DPGradientDescentGaussianOptimizer\n",
    "\n",
    "\n"
   ]
  },
  {
   "cell_type": "code",
   "execution_count": 6,
   "metadata": {},
   "outputs": [],
   "source": [
    "# pip install --upgrade pip setuptools\n"
   ]
  },
  {
   "cell_type": "code",
   "execution_count": 7,
   "metadata": {},
   "outputs": [],
   "source": [
    "# pip uninstall tensorflow-privacy"
   ]
  },
  {
   "cell_type": "code",
   "execution_count": 8,
   "metadata": {},
   "outputs": [],
   "source": [
    "\n",
    "# pip install tensorflow-privacy==0.5\n"
   ]
  },
  {
   "cell_type": "code",
   "execution_count": 9,
   "metadata": {},
   "outputs": [
    {
     "name": "stdout",
     "output_type": "stream",
     "text": [
      "TensorFlow version: 2.15.0\n",
      "TensorFlow Privacy version: 0.6.2\n"
     ]
    }
   ],
   "source": [
    "import tensorflow as tf\n",
    "import tensorflow_privacy as tfp\n",
    "\n",
    "print(\"TensorFlow version:\", tf.__version__)\n",
    "print(\"TensorFlow Privacy version:\", tfp.__version__)\n"
   ]
  },
  {
   "cell_type": "code",
   "execution_count": 10,
   "metadata": {},
   "outputs": [],
   "source": [
    "# pip uninstall tensorflow-privacy\n"
   ]
  },
  {
   "cell_type": "code",
   "execution_count": 1,
   "metadata": {},
   "outputs": [
    {
     "name": "stdout",
     "output_type": "stream",
     "text": [
      "^C\n",
      "Note: you may need to restart the kernel to use updated packages.\n"
     ]
    }
   ],
   "source": [
    "pip uninstall tensorflow\n"
   ]
  },
  {
   "cell_type": "code",
   "execution_count": 2,
   "metadata": {},
   "outputs": [
    {
     "name": "stdout",
     "output_type": "stream",
     "text": [
      "Note: you may need to restart the kernel to use updated packages.\n"
     ]
    },
    {
     "name": "stderr",
     "output_type": "stream",
     "text": [
      "WARNING: Ignoring invalid distribution ~ensorflow-intel (c:\\Users\\jd.pradal\\AppData\\Local\\anaconda3\\Lib\\site-packages)\n",
      "WARNING: Ignoring invalid distribution ~rotobuf (c:\\Users\\jd.pradal\\AppData\\Local\\anaconda3\\Lib\\site-packages)\n",
      "ERROR: Could not find a version that satisfies the requirement tensorflow==1.14.0 (from versions: 2.12.0rc0, 2.12.0rc1, 2.12.0, 2.12.1, 2.13.0rc0, 2.13.0rc1, 2.13.0rc2, 2.13.0, 2.13.1, 2.14.0rc0, 2.14.0rc1, 2.14.0, 2.14.1, 2.15.0rc0, 2.15.0rc1, 2.15.0, 2.15.1, 2.16.0rc0, 2.16.1, 2.16.2, 2.17.0rc0, 2.17.0rc1, 2.17.0, 2.17.1, 2.18.0rc0, 2.18.0rc1, 2.18.0rc2, 2.18.0)\n",
      "ERROR: No matching distribution found for tensorflow==1.14.0\n"
     ]
    }
   ],
   "source": [
    "\n",
    "pip install tensorflow==1.14.0\n"
   ]
  },
  {
   "cell_type": "code",
   "execution_count": 11,
   "metadata": {},
   "outputs": [
    {
     "name": "stdout",
     "output_type": "stream",
     "text": [
      "Requirement already satisfied: tensorflow-privacy==0.6.2 in c:\\users\\jd.pradal\\appdata\\local\\anaconda3\\lib\\site-packages (0.6.2)\n",
      "Requirement already satisfied: scipy>=0.17 in c:\\users\\jd.pradal\\appdata\\local\\anaconda3\\lib\\site-packages (from tensorflow-privacy==0.6.2) (1.10.1)\n",
      "Requirement already satisfied: tensorflow-estimator>=2.3.0 in c:\\users\\jd.pradal\\appdata\\local\\anaconda3\\lib\\site-packages (from tensorflow-privacy==0.6.2) (2.15.0)\n",
      "Requirement already satisfied: attrs>=21.2.0 in c:\\users\\jd.pradal\\appdata\\local\\anaconda3\\lib\\site-packages (from tensorflow-privacy==0.6.2) (22.1.0)\n",
      "Requirement already satisfied: mpmath in c:\\users\\jd.pradal\\appdata\\local\\anaconda3\\lib\\site-packages (from tensorflow-privacy==0.6.2) (1.3.0)\n",
      "Requirement already satisfied: dm-tree~=0.1.1 in c:\\users\\jd.pradal\\appdata\\local\\anaconda3\\lib\\site-packages (from tensorflow-privacy==0.6.2) (0.1.8)\n",
      "Requirement already satisfied: numpy<1.27.0,>=1.19.5 in c:\\users\\jd.pradal\\appdata\\local\\anaconda3\\lib\\site-packages (from scipy>=0.17->tensorflow-privacy==0.6.2) (1.24.3)\n",
      "Note: you may need to restart the kernel to use updated packages.\n"
     ]
    },
    {
     "name": "stderr",
     "output_type": "stream",
     "text": [
      "WARNING: Ignoring invalid distribution ~ensorflow-intel (c:\\Users\\jd.pradal\\AppData\\Local\\anaconda3\\Lib\\site-packages)\n",
      "WARNING: Ignoring invalid distribution ~rotobuf (c:\\Users\\jd.pradal\\AppData\\Local\\anaconda3\\Lib\\site-packages)\n",
      "WARNING: Ignoring invalid distribution ~ensorflow-intel (c:\\Users\\jd.pradal\\AppData\\Local\\anaconda3\\Lib\\site-packages)\n",
      "WARNING: Ignoring invalid distribution ~rotobuf (c:\\Users\\jd.pradal\\AppData\\Local\\anaconda3\\Lib\\site-packages)\n",
      "WARNING: Ignoring invalid distribution ~ensorflow-intel (c:\\Users\\jd.pradal\\AppData\\Local\\anaconda3\\Lib\\site-packages)\n",
      "WARNING: Ignoring invalid distribution ~rotobuf (c:\\Users\\jd.pradal\\AppData\\Local\\anaconda3\\Lib\\site-packages)\n"
     ]
    }
   ],
   "source": [
    "pip install --upgrade tensorflow-privacy==0.6.2\n"
   ]
  },
  {
   "cell_type": "code",
   "execution_count": 12,
   "metadata": {},
   "outputs": [
    {
     "name": "stdout",
     "output_type": "stream",
     "text": [
      "0.6.2\n"
     ]
    }
   ],
   "source": [
    "import tensorflow_privacy\n",
    "print(tensorflow_privacy.__version__)\n"
   ]
  },
  {
   "cell_type": "markdown",
   "metadata": {},
   "source": [
    "# Abrir Datos"
   ]
  },
  {
   "cell_type": "code",
   "execution_count": 13,
   "metadata": {},
   "outputs": [],
   "source": [
    "seno = pd.read_excel(\"Seno_freq_30_amplitud_10_ruido3.xlsx\")"
   ]
  },
  {
   "cell_type": "code",
   "execution_count": 14,
   "metadata": {},
   "outputs": [
    {
     "data": {
      "text/plain": [
       "[<matplotlib.lines.Line2D at 0x14654000050>]"
      ]
     },
     "execution_count": 14,
     "metadata": {},
     "output_type": "execute_result"
    },
    {
     "data": {
      "image/png": "[encoded data removed]",
      "text/plain": [
       "<Figure size 640x480 with 1 Axes>"
      ]
     },
     "metadata": {},
     "output_type": "display_data"
    }
   ],
   "source": [
    "plt.plot(seno[:100])"
   ]
  },
  {
   "cell_type": "markdown",
   "metadata": {},
   "source": [
    "# Crear Funciones"
   ]
  },
  {
   "cell_type": "markdown",
   "metadata": {},
   "source": [
    "## LSTM_TFP"
   ]
  },
  {
   "cell_type": "code",
   "execution_count": 15,
   "metadata": {},
   "outputs": [],
   "source": [
    "\n",
    "# X_train va a ser: (len(Datos) - ventana - prediccion ) * test_size\n",
    "\n",
    "# batch debe ser múltiplo de X_train.shape[0]\n",
    "# micro batch debe ser múltiplo de batch \n",
    "# de donde sale el número abajo de época cuando corro el modelo? \n",
    "# número de batches que el modelo procesa en cada época.\n",
    "# se calcula como X_train.shape[0] * (1-Val_size) / batch\n",
    "\n"
   ]
  },
  {
   "cell_type": "code",
   "execution_count": 16,
   "metadata": {},
   "outputs": [],
   "source": [
    "\n",
    "def LSTM_TFP_JD(datos,ventana,prediccion,fechas,nodos1,nodos2,paciencia,epocas,batch,activacion1,activacion2,activacion3,norm_clip,ruido,microBatches,lr,size_test,size_val,nombre):\n",
    "    \n",
    "\n",
    "    datos = datos.values.reshape(-1, 1)\n",
    "\n",
    "    estandarizacion = MinMaxScaler().fit(datos)\n",
    "    scaled_data = estandarizacion.transform(datos)\n",
    "\n",
    "\n",
    "    # dividir en train, test\n",
    "    X, y = [], []\n",
    "    Xf,yf = [],[]\n",
    "\n",
    "    for i in range(len(scaled_data) - ventana - prediccion):\n",
    "        X.append(scaled_data[i:i+ventana])\n",
    "        y.append(scaled_data[i+ventana:i+ventana+prediccion])\n",
    "\n",
    "        Xf.append(fechas[i:i+ventana])\n",
    "        yf.append(fechas[i+ventana:i+ventana+prediccion])\n",
    "\n",
    "    X, y = np.array(X), np.array(y)\n",
    "    Xf,yf = np.array(Xf),np.array(yf)\n",
    "\n",
    "\n",
    "\n",
    "    X_train, X_test, y_train, y_test = train_test_split(X, y, test_size=size_test, shuffle=False)\n",
    "\n",
    "    print(\"Batch debe ser divisor de \", round((len(datos) - ventana - prediccion)* (1- size_test),1 ))\n",
    "\n",
    "    # batch debe ser divisor de X_train.shape[0]\n",
    "    \n",
    "    if X_train.shape[0] % batch == 0:\n",
    "        print(f\"El batch {batch} si sirve para el X_train {X_train.shape[0]}\")\n",
    "    else:\n",
    "        print(\"No Va a servir\")\n",
    "    #raise ValueError('Batch  No es divisor de X_Train')\n",
    "\n",
    "\n",
    "\n",
    "    # # micro batch debe ser múltiplo de batch \n",
    "\n",
    "    if batch % microBatches != 0:\n",
    "        raise ValueError('Batch size should be an integer multiple of the number of microbatches')\n",
    "    else:\n",
    "        print(\"El MicroBatch si es múltiplo del batch\")\n",
    "\n",
    "\n",
    "\n",
    "    # # X_train.shape[0] * (1-Val_size) / micro_batch debe ser entero. \n",
    "\n",
    "    if X_train.shape[0] * (1-size_val) % microBatches == 0:\n",
    "        print(\"X_train.shape[0] * (1-Val_size) / micro_batch es entero, va a servir.\")\n",
    "    else:\n",
    "        print(\"No va a servir porque X_train.shape[0] * (1-Val_size) / micro_batch debe ser entero\")\n",
    "\n",
    "\n",
    "    \n",
    "\n",
    "\n",
    "\n",
    "    fecha_X_train, fecha_X_test, fecha_y_train, fecha_y_test = train_test_split(Xf, yf, test_size=size_test, shuffle=False)\n",
    "\n",
    "\n",
    "    model = Sequential()\n",
    "\n",
    "    model.add(LSTM(nodos1,activation= activacion1, input_shape=(ventana,1)))\n",
    "    model.add(Dense(nodos2, activation=activacion2))\n",
    "    model.add(Dense(prediccion , activation=activacion3))\n",
    "\n",
    "\n",
    "\n",
    "\n",
    "\n",
    "\n",
    "    # agregar la privacidad diferencial en el optimizador \n",
    "    optimizer = tensorflow_privacy.DPGradientDescentGaussianOptimizer (\n",
    "        l2_norm_clip=norm_clip,\n",
    "        noise_multiplier=ruido,\n",
    "        num_microbatches=microBatches,\n",
    "        learning_rate=lr)\n",
    "\n",
    "    # Función de pérdida para regresión\n",
    "    loss = tf.keras.losses.MeanSquaredError(reduction=tf.losses.Reduction.NONE)\n",
    "\n",
    "    #directorio = \"mi_directorio\"\n",
    "    model.compile(optimizer=optimizer, loss=loss)\n",
    "\n",
    "    early_stopping = EarlyStopping(monitor='loss', patience=paciencia, restore_best_weights=True)\n",
    "\n",
    "    history = model.fit(X_train, y_train, epochs=epocas,validation_split = size_val, verbose=1, batch_size=batch,shuffle = False, callbacks=[early_stopping])\n",
    "\n",
    "        \n",
    "    # # Guardar history usando pickle\n",
    "    with open(f'{nombre}_history_n1_{nodos1}_n2_{nodos2}_E_{epocas}_B_{batch}_{norm_clip}_l2{ ruido }ruido_{lr}_lr_{microBatches}mb_{activacion1[0]}_{activacion2[0]}_{activacion3[0]}.pkl', 'wb') as file:\n",
    "        pickle.dump(history.history, file)\n",
    "\n",
    "\n",
    "\n",
    "\n",
    "    # Guardar el modelo en un archivo .pkl\n",
    "    rutaAGuardar = f'{nombre}_Modelo_{nodos1}_n1_{nodos2}_n2_{epocas}_E_{norm_clip}_l2_{ ruido }_ruido_{lr}_lr_{microBatches}_mb_{batch}_Batch_{activacion1[0]}_{activacion2[0]}_{activacion3[0]}.pkl'\n",
    "    \n",
    "    model_dict = {\n",
    "        'architecture': model.to_json(),\n",
    "        'weights': model.get_weights(),\n",
    "        'scaler': estandarizacion  # Guarda el escalador si necesitas revertir la escala después\n",
    "    }\n",
    "    with open(rutaAGuardar, 'wb') as f:\n",
    "        pickle.dump(model_dict, f)\n",
    "\n",
    "\n",
    "\n",
    "\n",
    "\n",
    "\n",
    "\n",
    "        \n",
    "    y_hat = model.predict(X_test, verbose=1)\n",
    "    y_hat = estandarizacion.inverse_transform(y_hat)\n",
    "\n",
    "    y_test1 = y_test.reshape(-1, 1)\n",
    "\n",
    "    y_test1 = estandarizacion.inverse_transform(y_test1)\n",
    "\n",
    "    y_test1 = y_test1.reshape(-1,prediccion,1)\n",
    "\n",
    "    NE = X_train.shape[0] * (1 - size_val)\n",
    "\n",
    "    return y_hat,y_test1,fecha_y_test, history,NE"
   ]
  },
  {
   "cell_type": "markdown",
   "metadata": {},
   "source": [
    "## Métricas"
   ]
  },
  {
   "cell_type": "code",
   "execution_count": 17,
   "metadata": {},
   "outputs": [],
   "source": [
    "def Metricas_Jd(y_hat,y_test,prediccion):\n",
    "    \n",
    "    predicciones_porHora_LSTM = []\n",
    "    reales_porHora_LSTM = []\n",
    "    for i in range(prediccion):\n",
    "            \n",
    "        pred = []\n",
    "        for Predicciones in y_hat:\n",
    "            pred.append(Predicciones[i])\n",
    "            \n",
    "        real = []\n",
    "        for reales in y_test:\n",
    "            real.append(reales[i])\n",
    "            \n",
    "        predicciones_porHora_LSTM.append(pred)\n",
    "        reales_porHora_LSTM.append(real)\n",
    "        \n",
    "\n",
    "    MAES_LSTM = {}\n",
    "    RMSE_LSTM = {}\n",
    "    ER_Medios_LSTM = {}\n",
    "    ER_Medianos_LSTM = {}\n",
    "    epsilon_LSTM = 1e-10\n",
    "    for i in range(prediccion):\n",
    "        MAE_LSTM = round(mean_absolute_error(predicciones_porHora_LSTM[i],reales_porHora_LSTM[i]),2)\n",
    "        MSE_LSTM = round(mean_squared_error(reales_porHora_LSTM[0],predicciones_porHora_LSTM[i]),2)\n",
    "        Error_Relativo_Medio_LSTM = round((np.mean(np.abs((np.array(reales_porHora_LSTM[i]) - np.array(predicciones_porHora_LSTM[i])) / (np.array(reales_porHora_LSTM[i])+epsilon_LSTM)))*100),2)\n",
    "        Error_Relativo_Mediano_LSTM = round((np.median(np.abs((np.array(reales_porHora_LSTM[i]) - np.array(predicciones_porHora_LSTM[i])) / (np.array(reales_porHora_LSTM[i])+epsilon_LSTM)))*100),2)\n",
    "        \n",
    "        \n",
    "        MAES_LSTM[i] = MAE_LSTM\n",
    "        RMSE_LSTM[i] = round(np.sqrt(MSE_LSTM),2)\n",
    "        ER_Medianos_LSTM[i] = Error_Relativo_Mediano_LSTM\n",
    "        ER_Medios_LSTM[i] = Error_Relativo_Medio_LSTM\n",
    "        \n",
    "    return MAES_LSTM,RMSE_LSTM,ER_Medianos_LSTM,ER_Medios_LSTM"
   ]
  },
  {
   "cell_type": "markdown",
   "metadata": {},
   "source": [
    "## Abrir Modelo"
   ]
  },
  {
   "cell_type": "code",
   "execution_count": 18,
   "metadata": {},
   "outputs": [],
   "source": [
    "\n",
    "\n",
    "def Abrir_Modelo(datos,fechas,modelo,ventana,prediccion,size_test):\n",
    "        \n",
    "\n",
    "\n",
    "    datos = datos.values.reshape(-1, 1)\n",
    "\n",
    "    estandarizacion = MinMaxScaler().fit(datos)\n",
    "    scaled_data = estandarizacion.transform(datos)\n",
    "\n",
    "\n",
    "    # dividir en train, test\n",
    "    X, y = [], []\n",
    "    Xf,yf = [],[]\n",
    "\n",
    "    for i in range(len(scaled_data) - ventana - prediccion):\n",
    "        X.append(scaled_data[i:i+ventana])\n",
    "        y.append(scaled_data[i+ventana:i+ventana+prediccion])\n",
    "\n",
    "        Xf.append(fechas[i:i+ventana])\n",
    "        yf.append(fechas[i+ventana:i+ventana+prediccion])\n",
    "\n",
    "    X, y = np.array(X), np.array(y)\n",
    "    Xf,yf = np.array(Xf),np.array(yf)\n",
    "\n",
    "\n",
    "\n",
    "    X_train, X_test, y_train, y_test = train_test_split(X, y, test_size=size_test, shuffle=False)\n",
    "\n",
    "    fecha_X_train, fecha_X_test, fecha_y_train, fecha_y_test = train_test_split(Xf, yf, test_size=size_test, shuffle=False)\n",
    "\n",
    "\n",
    "        \n",
    "    y_hat = modelo.predict(X_test, verbose=1)\n",
    "    y_hat = estandarizacion.inverse_transform(y_hat)\n",
    "\n",
    "    y_test1 = y_test.reshape(-1, 1)\n",
    "\n",
    "    y_test1 = estandarizacion.inverse_transform(y_test1)\n",
    "\n",
    "    y_test1 = y_test1.reshape(-1,prediccion,1)\n",
    "\n",
    "\n",
    "    return y_hat, y_test1,fecha_y_test,prediccion\n"
   ]
  },
  {
   "cell_type": "markdown",
   "metadata": {},
   "source": [
    "# Correr Modelos"
   ]
  },
  {
   "cell_type": "code",
   "execution_count": 19,
   "metadata": {},
   "outputs": [],
   "source": [
    "# Parámetros\n",
    "\n",
    "datos = seno['valor']\n",
    "ventana = 120\n",
    "prediccion = 30\n",
    "fechas = datos.index\n",
    "nodos1 = 150\n",
    "nodos2 = 150\n",
    "epocas = 100\n",
    "paciencia = epocas\n",
    "activacion1 = \"tanh\"\n",
    "activacion2 = \"relu\"\n",
    "activacion3 = \"linear\"\n",
    "batch = 40\n",
    "size_test = 0.2\n",
    "nombre = \"Seno_freq_30_amplitud_10_ruido3\"\n",
    "size_val = 0.2\n",
    "clip = 1000\n",
    "ruido = 2\n",
    "microBatches = 1\n",
    "lr = 0.001\n",
    "\n"
   ]
  },
  {
   "cell_type": "code",
   "execution_count": null,
   "metadata": {},
   "outputs": [
    {
     "name": "stdout",
     "output_type": "stream",
     "text": [
      "Batch debe ser divisor de  680.0\n",
      "El batch 40 si sirve para el X_train 680\n",
      "El MicroBatch si es múltiplo del batch\n",
      "X_train.shape[0] * (1-Val_size) / micro_batch es entero, va a servir.\n",
      "WARNING:tensorflow:From c:\\Users\\jd.pradal\\AppData\\Local\\anaconda3\\Lib\\site-packages\\keras\\src\\engine\\training_v1.py:635: The name tf.data.Iterator is deprecated. Please use tf.compat.v1.data.Iterator instead.\n",
      "\n",
      "INFO:tensorflow:Cannot use 'training/while/gradients/f_count' as input to 'training/while/gradients/f_count_1' because they are in different while loops.\n",
      "\n",
      "training/while/gradients/f_count_1 while context: lstm_1/while/while_context\n",
      "training/while/gradients/f_count while context: training/while/while_context\n",
      "\n",
      "Traceback for training/while/gradients/f_count_1:\n",
      "  File \"<frozen runpy>\", line 198, in _run_module_as_main\n",
      "  File \"<frozen runpy>\", line 88, in _run_code\n",
      "  File \"c:\\Users\\jd.pradal\\AppData\\Local\\anaconda3\\Lib\\site-packages\\ipykernel_launcher.py\", line 17, in <module>\n",
      "  File \"c:\\Users\\jd.pradal\\AppData\\Local\\anaconda3\\Lib\\site-packages\\traitlets\\config\\application.py\", line 992, in launch_instance\n",
      "  File \"c:\\Users\\jd.pradal\\AppData\\Local\\anaconda3\\Lib\\site-packages\\ipykernel\\kernelapp.py\", line 711, in start\n",
      "  File \"c:\\Users\\jd.pradal\\AppData\\Local\\anaconda3\\Lib\\site-packages\\tornado\\platform\\asyncio.py\", line 195, in start\n",
      "  File \"c:\\Users\\jd.pradal\\AppData\\Local\\anaconda3\\Lib\\asyncio\\base_events.py\", line 607, in run_forever\n",
      "  File \"c:\\Users\\jd.pradal\\AppData\\Local\\anaconda3\\Lib\\asyncio\\base_events.py\", line 1922, in _run_once\n",
      "  File \"c:\\Users\\jd.pradal\\AppData\\Local\\anaconda3\\Lib\\asyncio\\events.py\", line 80, in _run\n",
      "  File \"c:\\Users\\jd.pradal\\AppData\\Local\\anaconda3\\Lib\\site-packages\\ipykernel\\kernelbase.py\", line 510, in dispatch_queue\n",
      "  File \"c:\\Users\\jd.pradal\\AppData\\Local\\anaconda3\\Lib\\site-packages\\ipykernel\\kernelbase.py\", line 499, in process_one\n",
      "  File \"c:\\Users\\jd.pradal\\AppData\\Local\\anaconda3\\Lib\\site-packages\\ipykernel\\kernelbase.py\", line 406, in dispatch_shell\n",
      "  File \"c:\\Users\\jd.pradal\\AppData\\Local\\anaconda3\\Lib\\site-packages\\ipykernel\\kernelbase.py\", line 729, in execute_request\n",
      "  File \"c:\\Users\\jd.pradal\\AppData\\Local\\anaconda3\\Lib\\site-packages\\ipykernel\\ipkernel.py\", line 411, in do_execute\n",
      "  File \"c:\\Users\\jd.pradal\\AppData\\Local\\anaconda3\\Lib\\site-packages\\ipykernel\\zmqshell.py\", line 531, in run_cell\n",
      "  File \"c:\\Users\\jd.pradal\\AppData\\Local\\anaconda3\\Lib\\site-packages\\IPython\\core\\interactiveshell.py\", line 3006, in run_cell\n",
      "  File \"c:\\Users\\jd.pradal\\AppData\\Local\\anaconda3\\Lib\\site-packages\\IPython\\core\\interactiveshell.py\", line 3061, in _run_cell\n",
      "  File \"c:\\Users\\jd.pradal\\AppData\\Local\\anaconda3\\Lib\\site-packages\\IPython\\core\\async_helpers.py\", line 129, in _pseudo_sync_runner\n",
      "  File \"c:\\Users\\jd.pradal\\AppData\\Local\\anaconda3\\Lib\\site-packages\\IPython\\core\\interactiveshell.py\", line 3266, in run_cell_async\n",
      "  File \"c:\\Users\\jd.pradal\\AppData\\Local\\anaconda3\\Lib\\site-packages\\IPython\\core\\interactiveshell.py\", line 3445, in run_ast_nodes\n",
      "  File \"c:\\Users\\jd.pradal\\AppData\\Local\\anaconda3\\Lib\\site-packages\\IPython\\core\\interactiveshell.py\", line 3505, in run_code\n",
      "  File \"C:\\Users\\jd.pradal\\AppData\\Local\\Temp\\ipykernel_2832\\1405000714.py\", line 1, in <module>\n",
      "  File \"C:\\Users\\jd.pradal\\AppData\\Local\\Temp\\ipykernel_2832\\3834564910.py\", line 90, in LSTM_TFP_JD\n",
      "  File \"c:\\Users\\jd.pradal\\AppData\\Local\\anaconda3\\Lib\\site-packages\\keras\\src\\engine\\training_v1.py\", line 856, in fit\n",
      "  File \"c:\\Users\\jd.pradal\\AppData\\Local\\anaconda3\\Lib\\site-packages\\keras\\src\\engine\\training_arrays_v1.py\", line 734, in fit\n",
      "  File \"c:\\Users\\jd.pradal\\AppData\\Local\\anaconda3\\Lib\\site-packages\\keras\\src\\engine\\training_arrays_v1.py\", line 192, in model_iteration\n",
      "  File \"c:\\Users\\jd.pradal\\AppData\\Local\\anaconda3\\Lib\\site-packages\\keras\\src\\engine\\training_arrays_v1.py\", line 620, in _make_execution_function\n",
      "  File \"c:\\Users\\jd.pradal\\AppData\\Local\\anaconda3\\Lib\\site-packages\\keras\\src\\engine\\training_v1.py\", line 2366, in _make_execution_function\n",
      "  File \"c:\\Users\\jd.pradal\\AppData\\Local\\anaconda3\\Lib\\site-packages\\keras\\src\\engine\\training_v1.py\", line 2284, in _make_train_function\n",
      "  File \"c:\\Users\\jd.pradal\\AppData\\Local\\anaconda3\\Lib\\site-packages\\keras\\src\\optimizers\\optimizer_v1.py\", line 905, in get_updates\n",
      "  File \"c:\\Users\\jd.pradal\\AppData\\Local\\anaconda3\\Lib\\site-packages\\tensorflow_privacy\\privacy\\optimizers\\dp_optimizer.py\", line 236, in compute_gradients\n",
      "  File \"c:\\Users\\jd.pradal\\AppData\\Local\\anaconda3\\Lib\\site-packages\\tensorflow\\python\\ops\\while_loop.py\", line 518, in while_loop\n",
      "  File \"c:\\Users\\jd.pradal\\AppData\\Local\\anaconda3\\Lib\\site-packages\\tensorflow\\python\\ops\\control_flow_ops.py\", line 1809, in BuildLoop\n",
      "  File \"c:\\Users\\jd.pradal\\AppData\\Local\\anaconda3\\Lib\\site-packages\\tensorflow\\python\\ops\\control_flow_ops.py\", line 1728, in _BuildLoop\n",
      "  File \"c:\\Users\\jd.pradal\\AppData\\Local\\anaconda3\\Lib\\site-packages\\tensorflow_privacy\\privacy\\optimizers\\dp_optimizer.py\", line 234, in <lambda>\n",
      "  File \"c:\\Users\\jd.pradal\\AppData\\Local\\anaconda3\\Lib\\site-packages\\tensorflow_privacy\\privacy\\optimizers\\dp_optimizer.py\", line 210, in process_microbatch\n",
      "  File \"c:\\Users\\jd.pradal\\AppData\\Local\\anaconda3\\Lib\\site-packages\\tensorflow\\python\\training\\optimizer.py\", line 599, in compute_gradients\n",
      "  File \"c:\\Users\\jd.pradal\\AppData\\Local\\anaconda3\\Lib\\site-packages\\tensorflow\\python\\ops\\gradients_impl.py\", line 177, in gradients\n",
      "  File \"c:\\Users\\jd.pradal\\AppData\\Local\\anaconda3\\Lib\\site-packages\\tensorflow\\python\\ops\\gradients_util.py\", line 588, in _GradientsHelper\n",
      "  File \"c:\\Users\\jd.pradal\\AppData\\Local\\anaconda3\\Lib\\site-packages\\tensorflow\\python\\ops\\gradients_util.py\", line 124, in _PendingCount\n",
      "  File \"c:\\Users\\jd.pradal\\AppData\\Local\\anaconda3\\Lib\\site-packages\\tensorflow\\python\\ops\\control_flow_state.py\", line 776, in MaybeCreateControlFlowState\n",
      "  File \"c:\\Users\\jd.pradal\\AppData\\Local\\anaconda3\\Lib\\site-packages\\tensorflow\\python\\ops\\control_flow_state.py\", line 579, in AddWhileContext\n",
      "  File \"c:\\Users\\jd.pradal\\AppData\\Local\\anaconda3\\Lib\\site-packages\\tensorflow\\python\\ops\\control_flow_state.py\", line 163, in __init__\n",
      "  File \"c:\\Users\\jd.pradal\\AppData\\Local\\anaconda3\\Lib\\site-packages\\tensorflow\\python\\ops\\control_flow_ops.py\", line 1360, in AddForwardLoopCounter\n",
      "  File \"c:\\Users\\jd.pradal\\AppData\\Local\\anaconda3\\Lib\\site-packages\\tensorflow\\python\\ops\\control_flow_ops.py\", line 135, in _Enter\n",
      "  File \"c:\\Users\\jd.pradal\\AppData\\Local\\anaconda3\\Lib\\site-packages\\tensorflow\\python\\ops\\gen_control_flow_ops.py\", line 181, in enter\n",
      "  File \"c:\\Users\\jd.pradal\\AppData\\Local\\anaconda3\\Lib\\site-packages\\tensorflow\\python\\framework\\op_def_library.py\", line 796, in _apply_op_helper\n",
      "  File \"c:\\Users\\jd.pradal\\AppData\\Local\\anaconda3\\Lib\\site-packages\\tensorflow\\python\\framework\\ops.py\", line 2652, in _create_op_internal\n",
      "  File \"c:\\Users\\jd.pradal\\AppData\\Local\\anaconda3\\Lib\\site-packages\\tensorflow\\python\\framework\\ops.py\", line 1160, in from_node_def\n",
      "\n",
      "Traceback for training/while/gradients/f_count:\n",
      "  File \"<frozen runpy>\", line 198, in _run_module_as_main\n",
      "  File \"<frozen runpy>\", line 88, in _run_code\n",
      "  File \"c:\\Users\\jd.pradal\\AppData\\Local\\anaconda3\\Lib\\site-packages\\ipykernel_launcher.py\", line 17, in <module>\n",
      "  File \"c:\\Users\\jd.pradal\\AppData\\Local\\anaconda3\\Lib\\site-packages\\traitlets\\config\\application.py\", line 992, in launch_instance\n",
      "  File \"c:\\Users\\jd.pradal\\AppData\\Local\\anaconda3\\Lib\\site-packages\\ipykernel\\kernelapp.py\", line 711, in start\n",
      "  File \"c:\\Users\\jd.pradal\\AppData\\Local\\anaconda3\\Lib\\site-packages\\tornado\\platform\\asyncio.py\", line 195, in start\n",
      "  File \"c:\\Users\\jd.pradal\\AppData\\Local\\anaconda3\\Lib\\asyncio\\base_events.py\", line 607, in run_forever\n",
      "  File \"c:\\Users\\jd.pradal\\AppData\\Local\\anaconda3\\Lib\\asyncio\\base_events.py\", line 1922, in _run_once\n",
      "  File \"c:\\Users\\jd.pradal\\AppData\\Local\\anaconda3\\Lib\\asyncio\\events.py\", line 80, in _run\n",
      "  File \"c:\\Users\\jd.pradal\\AppData\\Local\\anaconda3\\Lib\\site-packages\\ipykernel\\kernelbase.py\", line 510, in dispatch_queue\n",
      "  File \"c:\\Users\\jd.pradal\\AppData\\Local\\anaconda3\\Lib\\site-packages\\ipykernel\\kernelbase.py\", line 499, in process_one\n",
      "  File \"c:\\Users\\jd.pradal\\AppData\\Local\\anaconda3\\Lib\\site-packages\\ipykernel\\kernelbase.py\", line 406, in dispatch_shell\n",
      "  File \"c:\\Users\\jd.pradal\\AppData\\Local\\anaconda3\\Lib\\site-packages\\ipykernel\\kernelbase.py\", line 729, in execute_request\n",
      "  File \"c:\\Users\\jd.pradal\\AppData\\Local\\anaconda3\\Lib\\site-packages\\ipykernel\\ipkernel.py\", line 411, in do_execute\n",
      "  File \"c:\\Users\\jd.pradal\\AppData\\Local\\anaconda3\\Lib\\site-packages\\ipykernel\\zmqshell.py\", line 531, in run_cell\n",
      "  File \"c:\\Users\\jd.pradal\\AppData\\Local\\anaconda3\\Lib\\site-packages\\IPython\\core\\interactiveshell.py\", line 3006, in run_cell\n",
      "  File \"c:\\Users\\jd.pradal\\AppData\\Local\\anaconda3\\Lib\\site-packages\\IPython\\core\\interactiveshell.py\", line 3061, in _run_cell\n",
      "  File \"c:\\Users\\jd.pradal\\AppData\\Local\\anaconda3\\Lib\\site-packages\\IPython\\core\\async_helpers.py\", line 129, in _pseudo_sync_runner\n",
      "  File \"c:\\Users\\jd.pradal\\AppData\\Local\\anaconda3\\Lib\\site-packages\\IPython\\core\\interactiveshell.py\", line 3266, in run_cell_async\n",
      "  File \"c:\\Users\\jd.pradal\\AppData\\Local\\anaconda3\\Lib\\site-packages\\IPython\\core\\interactiveshell.py\", line 3445, in run_ast_nodes\n",
      "  File \"c:\\Users\\jd.pradal\\AppData\\Local\\anaconda3\\Lib\\site-packages\\IPython\\core\\interactiveshell.py\", line 3505, in run_code\n",
      "  File \"C:\\Users\\jd.pradal\\AppData\\Local\\Temp\\ipykernel_2832\\1405000714.py\", line 1, in <module>\n",
      "  File \"C:\\Users\\jd.pradal\\AppData\\Local\\Temp\\ipykernel_2832\\3834564910.py\", line 90, in LSTM_TFP_JD\n",
      "  File \"c:\\Users\\jd.pradal\\AppData\\Local\\anaconda3\\Lib\\site-packages\\keras\\src\\engine\\training_v1.py\", line 856, in fit\n",
      "  File \"c:\\Users\\jd.pradal\\AppData\\Local\\anaconda3\\Lib\\site-packages\\keras\\src\\engine\\training_arrays_v1.py\", line 734, in fit\n",
      "  File \"c:\\Users\\jd.pradal\\AppData\\Local\\anaconda3\\Lib\\site-packages\\keras\\src\\engine\\training_arrays_v1.py\", line 192, in model_iteration\n",
      "  File \"c:\\Users\\jd.pradal\\AppData\\Local\\anaconda3\\Lib\\site-packages\\keras\\src\\engine\\training_arrays_v1.py\", line 620, in _make_execution_function\n",
      "  File \"c:\\Users\\jd.pradal\\AppData\\Local\\anaconda3\\Lib\\site-packages\\keras\\src\\engine\\training_v1.py\", line 2366, in _make_execution_function\n",
      "  File \"c:\\Users\\jd.pradal\\AppData\\Local\\anaconda3\\Lib\\site-packages\\keras\\src\\engine\\training_v1.py\", line 2284, in _make_train_function\n",
      "  File \"c:\\Users\\jd.pradal\\AppData\\Local\\anaconda3\\Lib\\site-packages\\keras\\src\\optimizers\\optimizer_v1.py\", line 905, in get_updates\n",
      "  File \"c:\\Users\\jd.pradal\\AppData\\Local\\anaconda3\\Lib\\site-packages\\tensorflow_privacy\\privacy\\optimizers\\dp_optimizer.py\", line 236, in compute_gradients\n",
      "  File \"c:\\Users\\jd.pradal\\AppData\\Local\\anaconda3\\Lib\\site-packages\\tensorflow\\python\\ops\\while_loop.py\", line 518, in while_loop\n",
      "  File \"c:\\Users\\jd.pradal\\AppData\\Local\\anaconda3\\Lib\\site-packages\\tensorflow\\python\\ops\\control_flow_ops.py\", line 1809, in BuildLoop\n",
      "  File \"c:\\Users\\jd.pradal\\AppData\\Local\\anaconda3\\Lib\\site-packages\\tensorflow\\python\\ops\\control_flow_ops.py\", line 1728, in _BuildLoop\n",
      "  File \"c:\\Users\\jd.pradal\\AppData\\Local\\anaconda3\\Lib\\site-packages\\tensorflow_privacy\\privacy\\optimizers\\dp_optimizer.py\", line 234, in <lambda>\n",
      "  File \"c:\\Users\\jd.pradal\\AppData\\Local\\anaconda3\\Lib\\site-packages\\tensorflow_privacy\\privacy\\optimizers\\dp_optimizer.py\", line 210, in process_microbatch\n",
      "  File \"c:\\Users\\jd.pradal\\AppData\\Local\\anaconda3\\Lib\\site-packages\\tensorflow\\python\\training\\optimizer.py\", line 599, in compute_gradients\n",
      "  File \"c:\\Users\\jd.pradal\\AppData\\Local\\anaconda3\\Lib\\site-packages\\tensorflow\\python\\ops\\gradients_impl.py\", line 177, in gradients\n",
      "  File \"c:\\Users\\jd.pradal\\AppData\\Local\\anaconda3\\Lib\\site-packages\\tensorflow\\python\\ops\\gradients_util.py\", line 588, in _GradientsHelper\n",
      "  File \"c:\\Users\\jd.pradal\\AppData\\Local\\anaconda3\\Lib\\site-packages\\tensorflow\\python\\ops\\gradients_util.py\", line 124, in _PendingCount\n",
      "  File \"c:\\Users\\jd.pradal\\AppData\\Local\\anaconda3\\Lib\\site-packages\\tensorflow\\python\\ops\\control_flow_state.py\", line 776, in MaybeCreateControlFlowState\n",
      "  File \"c:\\Users\\jd.pradal\\AppData\\Local\\anaconda3\\Lib\\site-packages\\tensorflow\\python\\ops\\control_flow_state.py\", line 579, in AddWhileContext\n",
      "  File \"c:\\Users\\jd.pradal\\AppData\\Local\\anaconda3\\Lib\\site-packages\\tensorflow\\python\\ops\\control_flow_state.py\", line 163, in __init__\n",
      "  File \"c:\\Users\\jd.pradal\\AppData\\Local\\anaconda3\\Lib\\site-packages\\tensorflow\\python\\ops\\control_flow_ops.py\", line 1351, in AddForwardLoopCounter\n",
      "  File \"c:\\Users\\jd.pradal\\AppData\\Local\\anaconda3\\Lib\\site-packages\\tensorflow\\python\\ops\\weak_tensor_ops.py\", line 142, in wrapper\n",
      "  File \"c:\\Users\\jd.pradal\\AppData\\Local\\anaconda3\\Lib\\site-packages\\tensorflow\\python\\framework\\constant_op.py\", line 271, in constant\n",
      "  File \"c:\\Users\\jd.pradal\\AppData\\Local\\anaconda3\\Lib\\site-packages\\tensorflow\\python\\framework\\constant_op.py\", line 286, in _constant_impl\n",
      "  File \"c:\\Users\\jd.pradal\\AppData\\Local\\anaconda3\\Lib\\site-packages\\tensorflow\\python\\framework\\ops.py\", line 268, in _create_graph_constant\n",
      "  File \"c:\\Users\\jd.pradal\\AppData\\Local\\anaconda3\\Lib\\site-packages\\tensorflow\\python\\framework\\ops.py\", line 2652, in _create_op_internal\n",
      "  File \"c:\\Users\\jd.pradal\\AppData\\Local\\anaconda3\\Lib\\site-packages\\tensorflow\\python\\framework\\ops.py\", line 1160, in from_node_def\n",
      "\n",
      "\n"
     ]
    },
    {
     "ename": "ValueError",
     "evalue": "Cannot use 'training/while/gradients/f_count' as input to 'training/while/gradients/f_count_1' because they are in different while loops. See info log for more details.",
     "output_type": "error",
     "traceback": [
      "\u001b[1;31m---------------------------------------------------------------------------\u001b[0m",
      "\u001b[1;31mValueError\u001b[0m                                Traceback (most recent call last)",
      "Cell \u001b[1;32mIn[22], line 1\u001b[0m\n\u001b[1;32m----> 1\u001b[0m y_hat_TFP,y_test_TFP,fecha_y_test_TFP, history_TFP,NE_TFP \u001b[38;5;241m=\u001b[39m LSTM_TFP_JD(datos,ventana,prediccion,fechas,nodos1,nodos2,paciencia,epocas,batch,activacion1,activacion2,activacion3,clip,ruido,microBatches,lr,size_test,size_val,\u001b[38;5;124mf\u001b[39m\u001b[38;5;124m\"\u001b[39m\u001b[38;5;132;01m{\u001b[39;00mnombre\u001b[38;5;132;01m}\u001b[39;00m\u001b[38;5;124m TFP\u001b[39m\u001b[38;5;124m\"\u001b[39m)\n",
      "Cell \u001b[1;32mIn[16], line 90\u001b[0m, in \u001b[0;36mLSTM_TFP_JD\u001b[1;34m(datos, ventana, prediccion, fechas, nodos1, nodos2, paciencia, epocas, batch, activacion1, activacion2, activacion3, norm_clip, ruido, microBatches, lr, size_test, size_val, nombre)\u001b[0m\n\u001b[0;32m     86\u001b[0m model\u001b[38;5;241m.\u001b[39mcompile(optimizer\u001b[38;5;241m=\u001b[39moptimizer, loss\u001b[38;5;241m=\u001b[39mloss)\n\u001b[0;32m     88\u001b[0m early_stopping \u001b[38;5;241m=\u001b[39m EarlyStopping(monitor\u001b[38;5;241m=\u001b[39m\u001b[38;5;124m'\u001b[39m\u001b[38;5;124mloss\u001b[39m\u001b[38;5;124m'\u001b[39m, patience\u001b[38;5;241m=\u001b[39mpaciencia, restore_best_weights\u001b[38;5;241m=\u001b[39m\u001b[38;5;28;01mTrue\u001b[39;00m)\n\u001b[1;32m---> 90\u001b[0m history \u001b[38;5;241m=\u001b[39m model\u001b[38;5;241m.\u001b[39mfit(X_train, y_train, epochs\u001b[38;5;241m=\u001b[39mepocas,validation_split \u001b[38;5;241m=\u001b[39m size_val, verbose\u001b[38;5;241m=\u001b[39m\u001b[38;5;241m1\u001b[39m, batch_size\u001b[38;5;241m=\u001b[39mbatch,shuffle \u001b[38;5;241m=\u001b[39m \u001b[38;5;28;01mFalse\u001b[39;00m, callbacks\u001b[38;5;241m=\u001b[39m[early_stopping])\n\u001b[0;32m     93\u001b[0m \u001b[38;5;66;03m# # Guardar history usando pickle\u001b[39;00m\n\u001b[0;32m     94\u001b[0m \u001b[38;5;28;01mwith\u001b[39;00m \u001b[38;5;28mopen\u001b[39m(\u001b[38;5;124mf\u001b[39m\u001b[38;5;124m'\u001b[39m\u001b[38;5;132;01m{\u001b[39;00mnombre\u001b[38;5;132;01m}\u001b[39;00m\u001b[38;5;124m_history_n1_\u001b[39m\u001b[38;5;132;01m{\u001b[39;00mnodos1\u001b[38;5;132;01m}\u001b[39;00m\u001b[38;5;124m_n2_\u001b[39m\u001b[38;5;132;01m{\u001b[39;00mnodos2\u001b[38;5;132;01m}\u001b[39;00m\u001b[38;5;124m_E_\u001b[39m\u001b[38;5;132;01m{\u001b[39;00mepocas\u001b[38;5;132;01m}\u001b[39;00m\u001b[38;5;124m_B_\u001b[39m\u001b[38;5;132;01m{\u001b[39;00mbatch\u001b[38;5;132;01m}\u001b[39;00m\u001b[38;5;124m_\u001b[39m\u001b[38;5;132;01m{\u001b[39;00mnorm_clip\u001b[38;5;132;01m}\u001b[39;00m\u001b[38;5;124m_l2\u001b[39m\u001b[38;5;132;01m{\u001b[39;00m\u001b[38;5;250m \u001b[39mruido\u001b[38;5;250m \u001b[39m\u001b[38;5;132;01m}\u001b[39;00m\u001b[38;5;124mruido_\u001b[39m\u001b[38;5;132;01m{\u001b[39;00mlr\u001b[38;5;132;01m}\u001b[39;00m\u001b[38;5;124m_lr_\u001b[39m\u001b[38;5;132;01m{\u001b[39;00mmicroBatches\u001b[38;5;132;01m}\u001b[39;00m\u001b[38;5;124mmb_\u001b[39m\u001b[38;5;132;01m{\u001b[39;00mactivacion1[\u001b[38;5;241m0\u001b[39m]\u001b[38;5;132;01m}\u001b[39;00m\u001b[38;5;124m_\u001b[39m\u001b[38;5;132;01m{\u001b[39;00mactivacion2[\u001b[38;5;241m0\u001b[39m]\u001b[38;5;132;01m}\u001b[39;00m\u001b[38;5;124m_\u001b[39m\u001b[38;5;132;01m{\u001b[39;00mactivacion3[\u001b[38;5;241m0\u001b[39m]\u001b[38;5;132;01m}\u001b[39;00m\u001b[38;5;124m.pkl\u001b[39m\u001b[38;5;124m'\u001b[39m, \u001b[38;5;124m'\u001b[39m\u001b[38;5;124mwb\u001b[39m\u001b[38;5;124m'\u001b[39m) \u001b[38;5;28;01mas\u001b[39;00m file:\n",
      "File \u001b[1;32mc:\\Users\\jd.pradal\\AppData\\Local\\anaconda3\\Lib\\site-packages\\keras\\src\\engine\\training_v1.py:856\u001b[0m, in \u001b[0;36mModel.fit\u001b[1;34m(self, x, y, batch_size, epochs, verbose, callbacks, validation_split, validation_data, shuffle, class_weight, sample_weight, initial_epoch, steps_per_epoch, validation_steps, validation_freq, max_queue_size, workers, use_multiprocessing, **kwargs)\u001b[0m\n\u001b[0;32m    853\u001b[0m \u001b[38;5;28mself\u001b[39m\u001b[38;5;241m.\u001b[39m_check_call_args(\u001b[38;5;124m\"\u001b[39m\u001b[38;5;124mfit\u001b[39m\u001b[38;5;124m\"\u001b[39m)\n\u001b[0;32m    855\u001b[0m func \u001b[38;5;241m=\u001b[39m \u001b[38;5;28mself\u001b[39m\u001b[38;5;241m.\u001b[39m_select_training_loop(x)\n\u001b[1;32m--> 856\u001b[0m \u001b[38;5;28;01mreturn\u001b[39;00m func\u001b[38;5;241m.\u001b[39mfit(\n\u001b[0;32m    857\u001b[0m     \u001b[38;5;28mself\u001b[39m,\n\u001b[0;32m    858\u001b[0m     x\u001b[38;5;241m=\u001b[39mx,\n\u001b[0;32m    859\u001b[0m     y\u001b[38;5;241m=\u001b[39my,\n\u001b[0;32m    860\u001b[0m     batch_size\u001b[38;5;241m=\u001b[39mbatch_size,\n\u001b[0;32m    861\u001b[0m     epochs\u001b[38;5;241m=\u001b[39mepochs,\n\u001b[0;32m    862\u001b[0m     verbose\u001b[38;5;241m=\u001b[39mverbose,\n\u001b[0;32m    863\u001b[0m     callbacks\u001b[38;5;241m=\u001b[39mcallbacks,\n\u001b[0;32m    864\u001b[0m     validation_split\u001b[38;5;241m=\u001b[39mvalidation_split,\n\u001b[0;32m    865\u001b[0m     validation_data\u001b[38;5;241m=\u001b[39mvalidation_data,\n\u001b[0;32m    866\u001b[0m     shuffle\u001b[38;5;241m=\u001b[39mshuffle,\n\u001b[0;32m    867\u001b[0m     class_weight\u001b[38;5;241m=\u001b[39mclass_weight,\n\u001b[0;32m    868\u001b[0m     sample_weight\u001b[38;5;241m=\u001b[39msample_weight,\n\u001b[0;32m    869\u001b[0m     initial_epoch\u001b[38;5;241m=\u001b[39minitial_epoch,\n\u001b[0;32m    870\u001b[0m     steps_per_epoch\u001b[38;5;241m=\u001b[39msteps_per_epoch,\n\u001b[0;32m    871\u001b[0m     validation_steps\u001b[38;5;241m=\u001b[39mvalidation_steps,\n\u001b[0;32m    872\u001b[0m     validation_freq\u001b[38;5;241m=\u001b[39mvalidation_freq,\n\u001b[0;32m    873\u001b[0m     max_queue_size\u001b[38;5;241m=\u001b[39mmax_queue_size,\n\u001b[0;32m    874\u001b[0m     workers\u001b[38;5;241m=\u001b[39mworkers,\n\u001b[0;32m    875\u001b[0m     use_multiprocessing\u001b[38;5;241m=\u001b[39muse_multiprocessing,\n\u001b[0;32m    876\u001b[0m )\n",
      "File \u001b[1;32mc:\\Users\\jd.pradal\\AppData\\Local\\anaconda3\\Lib\\site-packages\\keras\\src\\engine\\training_arrays_v1.py:734\u001b[0m, in \u001b[0;36mArrayLikeTrainingLoop.fit\u001b[1;34m(self, model, x, y, batch_size, epochs, verbose, callbacks, validation_split, validation_data, shuffle, class_weight, sample_weight, initial_epoch, steps_per_epoch, validation_steps, validation_freq, **kwargs)\u001b[0m\n\u001b[0;32m    728\u001b[0m         \u001b[38;5;28;01mraise\u001b[39;00m \u001b[38;5;167;01mValueError\u001b[39;00m(\n\u001b[0;32m    729\u001b[0m             \u001b[38;5;124m\"\u001b[39m\u001b[38;5;124m`validation_steps` should not be specified if \u001b[39m\u001b[38;5;124m\"\u001b[39m\n\u001b[0;32m    730\u001b[0m             \u001b[38;5;124m\"\u001b[39m\u001b[38;5;124m`validation_data` is None.\u001b[39m\u001b[38;5;124m\"\u001b[39m\n\u001b[0;32m    731\u001b[0m         )\n\u001b[0;32m    732\u001b[0m     val_x, val_y, val_sample_weights \u001b[38;5;241m=\u001b[39m \u001b[38;5;28;01mNone\u001b[39;00m, \u001b[38;5;28;01mNone\u001b[39;00m, \u001b[38;5;28;01mNone\u001b[39;00m\n\u001b[1;32m--> 734\u001b[0m \u001b[38;5;28;01mreturn\u001b[39;00m fit_loop(\n\u001b[0;32m    735\u001b[0m     model,\n\u001b[0;32m    736\u001b[0m     inputs\u001b[38;5;241m=\u001b[39mx,\n\u001b[0;32m    737\u001b[0m     targets\u001b[38;5;241m=\u001b[39my,\n\u001b[0;32m    738\u001b[0m     sample_weights\u001b[38;5;241m=\u001b[39msample_weights,\n\u001b[0;32m    739\u001b[0m     batch_size\u001b[38;5;241m=\u001b[39mbatch_size,\n\u001b[0;32m    740\u001b[0m     epochs\u001b[38;5;241m=\u001b[39mepochs,\n\u001b[0;32m    741\u001b[0m     verbose\u001b[38;5;241m=\u001b[39mverbose,\n\u001b[0;32m    742\u001b[0m     callbacks\u001b[38;5;241m=\u001b[39mcallbacks,\n\u001b[0;32m    743\u001b[0m     val_inputs\u001b[38;5;241m=\u001b[39mval_x,\n\u001b[0;32m    744\u001b[0m     val_targets\u001b[38;5;241m=\u001b[39mval_y,\n\u001b[0;32m    745\u001b[0m     val_sample_weights\u001b[38;5;241m=\u001b[39mval_sample_weights,\n\u001b[0;32m    746\u001b[0m     shuffle\u001b[38;5;241m=\u001b[39mshuffle,\n\u001b[0;32m    747\u001b[0m     initial_epoch\u001b[38;5;241m=\u001b[39minitial_epoch,\n\u001b[0;32m    748\u001b[0m     steps_per_epoch\u001b[38;5;241m=\u001b[39msteps_per_epoch,\n\u001b[0;32m    749\u001b[0m     validation_steps\u001b[38;5;241m=\u001b[39mvalidation_steps,\n\u001b[0;32m    750\u001b[0m     validation_freq\u001b[38;5;241m=\u001b[39mvalidation_freq,\n\u001b[0;32m    751\u001b[0m     steps_name\u001b[38;5;241m=\u001b[39m\u001b[38;5;124m\"\u001b[39m\u001b[38;5;124msteps_per_epoch\u001b[39m\u001b[38;5;124m\"\u001b[39m,\n\u001b[0;32m    752\u001b[0m )\n",
      "File \u001b[1;32mc:\\Users\\jd.pradal\\AppData\\Local\\anaconda3\\Lib\\site-packages\\keras\\src\\engine\\training_arrays_v1.py:192\u001b[0m, in \u001b[0;36mmodel_iteration\u001b[1;34m(model, inputs, targets, sample_weights, batch_size, epochs, verbose, callbacks, val_inputs, val_targets, val_sample_weights, shuffle, initial_epoch, steps_per_epoch, validation_steps, validation_freq, mode, validation_in_fit, prepared_feed_values_from_dataset, steps_name, **kwargs)\u001b[0m\n\u001b[0;32m    187\u001b[0m _update_sample_weight_mode(model, mode, ins)\n\u001b[0;32m    189\u001b[0m \u001b[38;5;66;03m# Get step function and loop type. As part of building the execution\u001b[39;00m\n\u001b[0;32m    190\u001b[0m \u001b[38;5;66;03m# function we recompile the metrics based on the updated\u001b[39;00m\n\u001b[0;32m    191\u001b[0m \u001b[38;5;66;03m# sample_weight_mode value.\u001b[39;00m\n\u001b[1;32m--> 192\u001b[0m f \u001b[38;5;241m=\u001b[39m _make_execution_function(model, mode)\n\u001b[0;32m    194\u001b[0m \u001b[38;5;66;03m# Prepare validation data. Hold references to the iterator and the input\u001b[39;00m\n\u001b[0;32m    195\u001b[0m \u001b[38;5;66;03m# list to properly reinitialize and reuse in multiple validation passes.\u001b[39;00m\n\u001b[0;32m    196\u001b[0m val_iterator \u001b[38;5;241m=\u001b[39m \u001b[38;5;28;01mNone\u001b[39;00m\n",
      "File \u001b[1;32mc:\\Users\\jd.pradal\\AppData\\Local\\anaconda3\\Lib\\site-packages\\keras\\src\\engine\\training_arrays_v1.py:620\u001b[0m, in \u001b[0;36m_make_execution_function\u001b[1;34m(model, mode)\u001b[0m\n\u001b[0;32m    616\u001b[0m \u001b[38;5;28;01mif\u001b[39;00m model\u001b[38;5;241m.\u001b[39m_distribution_strategy:\n\u001b[0;32m    617\u001b[0m     \u001b[38;5;28;01mreturn\u001b[39;00m distributed_training_utils_v1\u001b[38;5;241m.\u001b[39m_make_execution_function(\n\u001b[0;32m    618\u001b[0m         model, mode\n\u001b[0;32m    619\u001b[0m     )\n\u001b[1;32m--> 620\u001b[0m \u001b[38;5;28;01mreturn\u001b[39;00m model\u001b[38;5;241m.\u001b[39m_make_execution_function(mode)\n",
      "File \u001b[1;32mc:\\Users\\jd.pradal\\AppData\\Local\\anaconda3\\Lib\\site-packages\\keras\\src\\engine\\training_v1.py:2366\u001b[0m, in \u001b[0;36mModel._make_execution_function\u001b[1;34m(self, mode)\u001b[0m\n\u001b[0;32m   2364\u001b[0m \u001b[38;5;28;01mdef\u001b[39;00m \u001b[38;5;21m_make_execution_function\u001b[39m(\u001b[38;5;28mself\u001b[39m, mode):\n\u001b[0;32m   2365\u001b[0m     \u001b[38;5;28;01mif\u001b[39;00m mode \u001b[38;5;241m==\u001b[39m ModeKeys\u001b[38;5;241m.\u001b[39mTRAIN:\n\u001b[1;32m-> 2366\u001b[0m         \u001b[38;5;28mself\u001b[39m\u001b[38;5;241m.\u001b[39m_make_train_function()\n\u001b[0;32m   2367\u001b[0m         \u001b[38;5;28;01mreturn\u001b[39;00m \u001b[38;5;28mself\u001b[39m\u001b[38;5;241m.\u001b[39mtrain_function\n\u001b[0;32m   2368\u001b[0m     \u001b[38;5;28;01mif\u001b[39;00m mode \u001b[38;5;241m==\u001b[39m ModeKeys\u001b[38;5;241m.\u001b[39mTEST:\n",
      "File \u001b[1;32mc:\\Users\\jd.pradal\\AppData\\Local\\anaconda3\\Lib\\site-packages\\keras\\src\\engine\\training_v1.py:2284\u001b[0m, in \u001b[0;36mModel._make_train_function\u001b[1;34m(self)\u001b[0m\n\u001b[0;32m   2281\u001b[0m \u001b[38;5;28;01mwith\u001b[39;00m backend\u001b[38;5;241m.\u001b[39mget_graph()\u001b[38;5;241m.\u001b[39mas_default():\n\u001b[0;32m   2282\u001b[0m     \u001b[38;5;28;01mwith\u001b[39;00m backend\u001b[38;5;241m.\u001b[39mname_scope(\u001b[38;5;124m\"\u001b[39m\u001b[38;5;124mtraining\u001b[39m\u001b[38;5;124m\"\u001b[39m):\n\u001b[0;32m   2283\u001b[0m         \u001b[38;5;66;03m# Training updates\u001b[39;00m\n\u001b[1;32m-> 2284\u001b[0m         updates \u001b[38;5;241m=\u001b[39m \u001b[38;5;28mself\u001b[39m\u001b[38;5;241m.\u001b[39moptimizer\u001b[38;5;241m.\u001b[39mget_updates(\n\u001b[0;32m   2285\u001b[0m             params\u001b[38;5;241m=\u001b[39m\u001b[38;5;28mself\u001b[39m\u001b[38;5;241m.\u001b[39m_collected_trainable_weights,\n\u001b[0;32m   2286\u001b[0m             loss\u001b[38;5;241m=\u001b[39m\u001b[38;5;28mself\u001b[39m\u001b[38;5;241m.\u001b[39mtotal_loss,\n\u001b[0;32m   2287\u001b[0m         )\n\u001b[0;32m   2288\u001b[0m         \u001b[38;5;66;03m# Unconditional updates\u001b[39;00m\n\u001b[0;32m   2289\u001b[0m         updates \u001b[38;5;241m+\u001b[39m\u001b[38;5;241m=\u001b[39m \u001b[38;5;28mself\u001b[39m\u001b[38;5;241m.\u001b[39mget_updates_for(\u001b[38;5;28;01mNone\u001b[39;00m)\n",
      "File \u001b[1;32mc:\\Users\\jd.pradal\\AppData\\Local\\anaconda3\\Lib\\site-packages\\keras\\src\\optimizers\\optimizer_v1.py:905\u001b[0m, in \u001b[0;36mTFOptimizer.get_updates\u001b[1;34m(self, loss, params)\u001b[0m\n\u001b[0;32m    902\u001b[0m     \u001b[38;5;66;03m# Updates list starts out empty because the iterations variable is\u001b[39;00m\n\u001b[0;32m    903\u001b[0m     \u001b[38;5;66;03m# incremented in optimizer.apply_gradients()\u001b[39;00m\n\u001b[0;32m    904\u001b[0m     \u001b[38;5;28mself\u001b[39m\u001b[38;5;241m.\u001b[39mupdates \u001b[38;5;241m=\u001b[39m []\n\u001b[1;32m--> 905\u001b[0m     grads \u001b[38;5;241m=\u001b[39m \u001b[38;5;28mself\u001b[39m\u001b[38;5;241m.\u001b[39moptimizer\u001b[38;5;241m.\u001b[39mcompute_gradients(loss, params)\n\u001b[0;32m    906\u001b[0m     opt_update \u001b[38;5;241m=\u001b[39m \u001b[38;5;28mself\u001b[39m\u001b[38;5;241m.\u001b[39moptimizer\u001b[38;5;241m.\u001b[39mapply_gradients(\n\u001b[0;32m    907\u001b[0m         grads, global_step\u001b[38;5;241m=\u001b[39m\u001b[38;5;28mself\u001b[39m\u001b[38;5;241m.\u001b[39miterations\n\u001b[0;32m    908\u001b[0m     )\n\u001b[0;32m    910\u001b[0m \u001b[38;5;28mself\u001b[39m\u001b[38;5;241m.\u001b[39mupdates\u001b[38;5;241m.\u001b[39mappend(opt_update)\n",
      "File \u001b[1;32mc:\\Users\\jd.pradal\\AppData\\Local\\anaconda3\\Lib\\site-packages\\tensorflow_privacy\\privacy\\optimizers\\dp_optimizer.py:236\u001b[0m, in \u001b[0;36mmake_optimizer_class.<locals>.DPOptimizerClass.compute_gradients\u001b[1;34m(self, loss, var_list, gate_gradients, aggregation_method, colocate_gradients_with_ops, grad_loss, gradient_tape)\u001b[0m\n\u001b[0;32m    234\u001b[0m   body_fn \u001b[38;5;241m=\u001b[39m \u001b[38;5;28;01mlambda\u001b[39;00m i, state: [tf\u001b[38;5;241m.\u001b[39madd(i, \u001b[38;5;241m1\u001b[39m), process_microbatch(i, state)]  \u001b[38;5;66;03m# pylint: disable=line-too-long\u001b[39;00m\n\u001b[0;32m    235\u001b[0m   idx \u001b[38;5;241m=\u001b[39m tf\u001b[38;5;241m.\u001b[39mconstant(\u001b[38;5;241m0\u001b[39m)\n\u001b[1;32m--> 236\u001b[0m   _, sample_state \u001b[38;5;241m=\u001b[39m tf\u001b[38;5;241m.\u001b[39mwhile_loop(\n\u001b[0;32m    237\u001b[0m       cond\u001b[38;5;241m=\u001b[39mcond_fn, body\u001b[38;5;241m=\u001b[39mbody_fn, loop_vars\u001b[38;5;241m=\u001b[39m[idx, sample_state])\n\u001b[0;32m    239\u001b[0m grad_sums, \u001b[38;5;28mself\u001b[39m\u001b[38;5;241m.\u001b[39m_global_state \u001b[38;5;241m=\u001b[39m (\n\u001b[0;32m    240\u001b[0m     \u001b[38;5;28mself\u001b[39m\u001b[38;5;241m.\u001b[39m_dp_sum_query\u001b[38;5;241m.\u001b[39mget_noised_result(\n\u001b[0;32m    241\u001b[0m         sample_state, \u001b[38;5;28mself\u001b[39m\u001b[38;5;241m.\u001b[39m_global_state))\n\u001b[0;32m    243\u001b[0m \u001b[38;5;28;01mdef\u001b[39;00m \u001b[38;5;21mnormalize\u001b[39m(v):\n",
      "File \u001b[1;32mc:\\Users\\jd.pradal\\AppData\\Local\\anaconda3\\Lib\\site-packages\\tensorflow\\python\\ops\\while_loop.py:518\u001b[0m, in \u001b[0;36mwhile_loop\u001b[1;34m(cond, body, loop_vars, shape_invariants, parallel_iterations, back_prop, swap_memory, name, maximum_iterations, return_same_structure)\u001b[0m\n\u001b[0;32m    516\u001b[0m \u001b[38;5;28;01mif\u001b[39;00m loop_context\u001b[38;5;241m.\u001b[39mouter_context \u001b[38;5;129;01mis\u001b[39;00m \u001b[38;5;28;01mNone\u001b[39;00m:\n\u001b[0;32m    517\u001b[0m   ops\u001b[38;5;241m.\u001b[39madd_to_collection(ops\u001b[38;5;241m.\u001b[39mGraphKeys\u001b[38;5;241m.\u001b[39mWHILE_CONTEXT, loop_context)\n\u001b[1;32m--> 518\u001b[0m result \u001b[38;5;241m=\u001b[39m loop_context\u001b[38;5;241m.\u001b[39mBuildLoop(cond, body, loop_vars, shape_invariants,\n\u001b[0;32m    519\u001b[0m                                 return_same_structure)\n\u001b[0;32m    520\u001b[0m \u001b[38;5;28;01mif\u001b[39;00m maximum_iterations \u001b[38;5;129;01mis\u001b[39;00m \u001b[38;5;129;01mnot\u001b[39;00m \u001b[38;5;28;01mNone\u001b[39;00m:\n\u001b[0;32m    521\u001b[0m   \u001b[38;5;28;01mreturn\u001b[39;00m result[\u001b[38;5;241m1\u001b[39m]\n",
      "File \u001b[1;32mc:\\Users\\jd.pradal\\AppData\\Local\\anaconda3\\Lib\\site-packages\\tensorflow\\python\\ops\\control_flow_ops.py:1809\u001b[0m, in \u001b[0;36mWhileContext.BuildLoop\u001b[1;34m(self, pred, body, loop_vars, shape_invariants, return_same_structure)\u001b[0m\n\u001b[0;32m   1805\u001b[0m   \u001b[38;5;66;03m# _BuildLoop calls _update_input in several places. _mutation_lock()\u001b[39;00m\n\u001b[0;32m   1806\u001b[0m   \u001b[38;5;66;03m# ensures a Session.run call cannot occur between creating and mutating\u001b[39;00m\n\u001b[0;32m   1807\u001b[0m   \u001b[38;5;66;03m# new ops.\u001b[39;00m\n\u001b[0;32m   1808\u001b[0m   \u001b[38;5;28;01mwith\u001b[39;00m ops\u001b[38;5;241m.\u001b[39mget_default_graph()\u001b[38;5;241m.\u001b[39m_mutation_lock():  \u001b[38;5;66;03m# pylint: disable=protected-access\u001b[39;00m\n\u001b[1;32m-> 1809\u001b[0m     original_body_result, exit_vars \u001b[38;5;241m=\u001b[39m \u001b[38;5;28mself\u001b[39m\u001b[38;5;241m.\u001b[39m_BuildLoop(\n\u001b[0;32m   1810\u001b[0m         pred, body, flat_orig_loop_vars, flat_loop_vars,\n\u001b[0;32m   1811\u001b[0m         loop_vars_signature)\n\u001b[0;32m   1812\u001b[0m \u001b[38;5;28;01mfinally\u001b[39;00m:\n\u001b[0;32m   1813\u001b[0m   \u001b[38;5;28mself\u001b[39m\u001b[38;5;241m.\u001b[39mExit()\n",
      "File \u001b[1;32mc:\\Users\\jd.pradal\\AppData\\Local\\anaconda3\\Lib\\site-packages\\tensorflow\\python\\ops\\control_flow_ops.py:1728\u001b[0m, in \u001b[0;36mWhileContext._BuildLoop\u001b[1;34m(self, pred, body, flat_orig_loop_vars, flat_loop_vars, loop_vars_signature)\u001b[0m\n\u001b[0;32m   1723\u001b[0m packed_vars_for_body \u001b[38;5;241m=\u001b[39m nest\u001b[38;5;241m.\u001b[39mpack_sequence_as(\n\u001b[0;32m   1724\u001b[0m     structure\u001b[38;5;241m=\u001b[39mloop_vars_signature,\n\u001b[0;32m   1725\u001b[0m     flat_sequence\u001b[38;5;241m=\u001b[39mvars_for_body_with_tensorarrays,\n\u001b[0;32m   1726\u001b[0m     expand_composites\u001b[38;5;241m=\u001b[39m\u001b[38;5;28;01mTrue\u001b[39;00m)\n\u001b[0;32m   1727\u001b[0m pre_summaries \u001b[38;5;241m=\u001b[39m ops\u001b[38;5;241m.\u001b[39mget_collection(ops\u001b[38;5;241m.\u001b[39mGraphKeys\u001b[38;5;241m.\u001b[39m_SUMMARY_COLLECTION)  \u001b[38;5;66;03m# pylint: disable=protected-access\u001b[39;00m\n\u001b[1;32m-> 1728\u001b[0m body_result \u001b[38;5;241m=\u001b[39m body(\u001b[38;5;241m*\u001b[39mpacked_vars_for_body)\n\u001b[0;32m   1729\u001b[0m post_summaries \u001b[38;5;241m=\u001b[39m ops\u001b[38;5;241m.\u001b[39mget_collection(ops\u001b[38;5;241m.\u001b[39mGraphKeys\u001b[38;5;241m.\u001b[39m_SUMMARY_COLLECTION)  \u001b[38;5;66;03m# pylint: disable=protected-access\u001b[39;00m\n\u001b[0;32m   1730\u001b[0m \u001b[38;5;28;01mif\u001b[39;00m \u001b[38;5;129;01mnot\u001b[39;00m nest\u001b[38;5;241m.\u001b[39mis_nested(body_result):\n",
      "File \u001b[1;32mc:\\Users\\jd.pradal\\AppData\\Local\\anaconda3\\Lib\\site-packages\\tensorflow_privacy\\privacy\\optimizers\\dp_optimizer.py:234\u001b[0m, in \u001b[0;36mmake_optimizer_class.<locals>.DPOptimizerClass.compute_gradients.<locals>.<lambda>\u001b[1;34m(i, state)\u001b[0m\n\u001b[0;32m    229\u001b[0m \u001b[38;5;28;01melse\u001b[39;00m:\n\u001b[0;32m    230\u001b[0m   \u001b[38;5;66;03m# Use of while_loop here requires that sample_state be a nested\u001b[39;00m\n\u001b[0;32m    231\u001b[0m   \u001b[38;5;66;03m# structure of tensors. In general, we would prefer to allow it to be\u001b[39;00m\n\u001b[0;32m    232\u001b[0m   \u001b[38;5;66;03m# an arbitrary opaque type.\u001b[39;00m\n\u001b[0;32m    233\u001b[0m   cond_fn \u001b[38;5;241m=\u001b[39m \u001b[38;5;28;01mlambda\u001b[39;00m i, _: tf\u001b[38;5;241m.\u001b[39mless(i, \u001b[38;5;28mself\u001b[39m\u001b[38;5;241m.\u001b[39m_num_microbatches)\n\u001b[1;32m--> 234\u001b[0m   body_fn \u001b[38;5;241m=\u001b[39m \u001b[38;5;28;01mlambda\u001b[39;00m i, state: [tf\u001b[38;5;241m.\u001b[39madd(i, \u001b[38;5;241m1\u001b[39m), process_microbatch(i, state)]  \u001b[38;5;66;03m# pylint: disable=line-too-long\u001b[39;00m\n\u001b[0;32m    235\u001b[0m   idx \u001b[38;5;241m=\u001b[39m tf\u001b[38;5;241m.\u001b[39mconstant(\u001b[38;5;241m0\u001b[39m)\n\u001b[0;32m    236\u001b[0m   _, sample_state \u001b[38;5;241m=\u001b[39m tf\u001b[38;5;241m.\u001b[39mwhile_loop(\n\u001b[0;32m    237\u001b[0m       cond\u001b[38;5;241m=\u001b[39mcond_fn, body\u001b[38;5;241m=\u001b[39mbody_fn, loop_vars\u001b[38;5;241m=\u001b[39m[idx, sample_state])\n",
      "File \u001b[1;32mc:\\Users\\jd.pradal\\AppData\\Local\\anaconda3\\Lib\\site-packages\\tensorflow_privacy\\privacy\\optimizers\\dp_optimizer.py:210\u001b[0m, in \u001b[0;36mmake_optimizer_class.<locals>.DPOptimizerClass.compute_gradients.<locals>.process_microbatch\u001b[1;34m(i, sample_state)\u001b[0m\n\u001b[0;32m    206\u001b[0m \u001b[38;5;28;01melse\u001b[39;00m:\n\u001b[0;32m    207\u001b[0m   \u001b[38;5;66;03m# This case covers Keras optimizers from optimizers_v2.\u001b[39;00m\n\u001b[0;32m    208\u001b[0m   compute_gradients_fn \u001b[38;5;241m=\u001b[39m self_super\u001b[38;5;241m.\u001b[39m_compute_gradients  \u001b[38;5;66;03m# pylint: disable=protected-access\u001b[39;00m\n\u001b[1;32m--> 210\u001b[0m grads, _ \u001b[38;5;241m=\u001b[39m \u001b[38;5;28mzip\u001b[39m(\u001b[38;5;241m*\u001b[39mcompute_gradients_fn(\n\u001b[0;32m    211\u001b[0m     mean_loss, var_list, gate_gradients,\n\u001b[0;32m    212\u001b[0m     aggregation_method, colocate_gradients_with_ops, grad_loss))\n\u001b[0;32m    213\u001b[0m grads_list \u001b[38;5;241m=\u001b[39m \u001b[38;5;28mlist\u001b[39m(grads)\n\u001b[0;32m    215\u001b[0m sample_state \u001b[38;5;241m=\u001b[39m \u001b[38;5;28mself\u001b[39m\u001b[38;5;241m.\u001b[39m_dp_sum_query\u001b[38;5;241m.\u001b[39maccumulate_record(\n\u001b[0;32m    216\u001b[0m     sample_params, sample_state, grads_list)\n",
      "File \u001b[1;32mc:\\Users\\jd.pradal\\AppData\\Local\\anaconda3\\Lib\\site-packages\\tensorflow\\python\\training\\optimizer.py:599\u001b[0m, in \u001b[0;36mOptimizer.compute_gradients\u001b[1;34m(self, loss, var_list, gate_gradients, aggregation_method, colocate_gradients_with_ops, grad_loss)\u001b[0m\n\u001b[0;32m    597\u001b[0m   \u001b[38;5;28;01mraise\u001b[39;00m \u001b[38;5;167;01mValueError\u001b[39;00m(\u001b[38;5;124m\"\u001b[39m\u001b[38;5;124mNo variables to optimize.\u001b[39m\u001b[38;5;124m\"\u001b[39m)\n\u001b[0;32m    598\u001b[0m var_refs \u001b[38;5;241m=\u001b[39m [p\u001b[38;5;241m.\u001b[39mtarget() \u001b[38;5;28;01mfor\u001b[39;00m p \u001b[38;5;129;01min\u001b[39;00m processors]\n\u001b[1;32m--> 599\u001b[0m grads \u001b[38;5;241m=\u001b[39m gradients\u001b[38;5;241m.\u001b[39mgradients(\n\u001b[0;32m    600\u001b[0m     loss, var_refs, grad_ys\u001b[38;5;241m=\u001b[39mgrad_loss,\n\u001b[0;32m    601\u001b[0m     gate_gradients\u001b[38;5;241m=\u001b[39m(gate_gradients \u001b[38;5;241m==\u001b[39m Optimizer\u001b[38;5;241m.\u001b[39mGATE_OP),\n\u001b[0;32m    602\u001b[0m     aggregation_method\u001b[38;5;241m=\u001b[39maggregation_method,\n\u001b[0;32m    603\u001b[0m     colocate_gradients_with_ops\u001b[38;5;241m=\u001b[39mcolocate_gradients_with_ops)\n\u001b[0;32m    604\u001b[0m \u001b[38;5;28;01mif\u001b[39;00m gate_gradients \u001b[38;5;241m==\u001b[39m Optimizer\u001b[38;5;241m.\u001b[39mGATE_GRAPH:\n\u001b[0;32m    605\u001b[0m   grads \u001b[38;5;241m=\u001b[39m control_flow_ops\u001b[38;5;241m.\u001b[39mtuple(grads)\n",
      "File \u001b[1;32mc:\\Users\\jd.pradal\\AppData\\Local\\anaconda3\\Lib\\site-packages\\tensorflow\\python\\ops\\gradients_impl.py:177\u001b[0m, in \u001b[0;36mgradients\u001b[1;34m(ys, xs, grad_ys, name, colocate_gradients_with_ops, gate_gradients, aggregation_method, stop_gradients, unconnected_gradients)\u001b[0m\n\u001b[0;32m    172\u001b[0m \u001b[38;5;66;03m# Creating the gradient graph for control flow mutates Operations.\u001b[39;00m\n\u001b[0;32m    173\u001b[0m \u001b[38;5;66;03m# _mutation_lock ensures a Session.run call cannot occur between creating and\u001b[39;00m\n\u001b[0;32m    174\u001b[0m \u001b[38;5;66;03m# mutating new ops.\u001b[39;00m\n\u001b[0;32m    175\u001b[0m \u001b[38;5;66;03m# pylint: disable=protected-access\u001b[39;00m\n\u001b[0;32m    176\u001b[0m \u001b[38;5;28;01mwith\u001b[39;00m ops\u001b[38;5;241m.\u001b[39mget_default_graph()\u001b[38;5;241m.\u001b[39m_mutation_lock():\n\u001b[1;32m--> 177\u001b[0m   \u001b[38;5;28;01mreturn\u001b[39;00m gradients_util\u001b[38;5;241m.\u001b[39m_GradientsHelper(\n\u001b[0;32m    178\u001b[0m       ys, xs, grad_ys, name, colocate_gradients_with_ops,\n\u001b[0;32m    179\u001b[0m       gate_gradients, aggregation_method, stop_gradients,\n\u001b[0;32m    180\u001b[0m       unconnected_gradients)\n",
      "File \u001b[1;32mc:\\Users\\jd.pradal\\AppData\\Local\\anaconda3\\Lib\\site-packages\\tensorflow\\python\\ops\\gradients_util.py:588\u001b[0m, in \u001b[0;36m_GradientsHelper\u001b[1;34m(ys, xs, grad_ys, name, colocate_gradients_with_ops, gate_gradients, aggregation_method, stop_gradients, unconnected_gradients, src_graph)\u001b[0m\n\u001b[0;32m    586\u001b[0m from_ops \u001b[38;5;241m=\u001b[39m [t\u001b[38;5;241m.\u001b[39mop \u001b[38;5;28;01mfor\u001b[39;00m t \u001b[38;5;129;01min\u001b[39;00m xs]\n\u001b[0;32m    587\u001b[0m stop_gradient_ops \u001b[38;5;241m=\u001b[39m [t\u001b[38;5;241m.\u001b[39mop \u001b[38;5;28;01mfor\u001b[39;00m t \u001b[38;5;129;01min\u001b[39;00m stop_gradients]\n\u001b[1;32m--> 588\u001b[0m reachable_to_ops, pending_count, loop_state \u001b[38;5;241m=\u001b[39m _PendingCount(\n\u001b[0;32m    589\u001b[0m     to_ops, from_ops, colocate_gradients_with_ops, func_graphs, xs_set)\n\u001b[0;32m    591\u001b[0m \u001b[38;5;66;03m# Iterate over the collected ops.\u001b[39;00m\n\u001b[0;32m    592\u001b[0m \u001b[38;5;66;03m#\u001b[39;00m\n\u001b[0;32m    593\u001b[0m \u001b[38;5;66;03m# grads: op => list of gradients received on each output endpoint of the\u001b[39;00m\n\u001b[1;32m   (...)\u001b[0m\n\u001b[0;32m    596\u001b[0m \u001b[38;5;66;03m# aggregate the list of received gradients into a Add() Operation if there\u001b[39;00m\n\u001b[0;32m    597\u001b[0m \u001b[38;5;66;03m# is more than one.\u001b[39;00m\n\u001b[0;32m    598\u001b[0m grads \u001b[38;5;241m=\u001b[39m {}\n",
      "File \u001b[1;32mc:\\Users\\jd.pradal\\AppData\\Local\\anaconda3\\Lib\\site-packages\\tensorflow\\python\\ops\\gradients_util.py:124\u001b[0m, in \u001b[0;36m_PendingCount\u001b[1;34m(to_ops, from_ops, colocate_gradients_with_ops, func_graphs, xs_set)\u001b[0m\n\u001b[0;32m    119\u001b[0m       queue\u001b[38;5;241m.\u001b[39mappend(inp\u001b[38;5;241m.\u001b[39mop)\n\u001b[0;32m    120\u001b[0m \u001b[38;5;66;03m# X in between_ops iff X is on a path of zero or more backpropagatable tensors\u001b[39;00m\n\u001b[0;32m    121\u001b[0m \u001b[38;5;66;03m# between from_ops and to_ops\u001b[39;00m\n\u001b[0;32m    122\u001b[0m \n\u001b[0;32m    123\u001b[0m \u001b[38;5;66;03m# 'loop_state' is None if there are no while loops.\u001b[39;00m\n\u001b[1;32m--> 124\u001b[0m loop_state \u001b[38;5;241m=\u001b[39m control_flow_state\u001b[38;5;241m.\u001b[39mMaybeCreateControlFlowState(\n\u001b[0;32m    125\u001b[0m     between_op_list, between_ops, colocate_gradients_with_ops)\n\u001b[0;32m    127\u001b[0m \u001b[38;5;66;03m# Initialize pending count for between ops.\u001b[39;00m\n\u001b[0;32m    128\u001b[0m pending_count \u001b[38;5;241m=\u001b[39m collections\u001b[38;5;241m.\u001b[39mdefaultdict(\u001b[38;5;28mint\u001b[39m)\n",
      "File \u001b[1;32mc:\\Users\\jd.pradal\\AppData\\Local\\anaconda3\\Lib\\site-packages\\tensorflow\\python\\ops\\control_flow_state.py:776\u001b[0m, in \u001b[0;36mMaybeCreateControlFlowState\u001b[1;34m(between_op_list, between_ops, colocate_gradients_with_ops)\u001b[0m\n\u001b[0;32m    774\u001b[0m         loop_state\u001b[38;5;241m.\u001b[39mAddWhileContext(op, between_op_list, between_ops)\n\u001b[0;32m    775\u001b[0m     \u001b[38;5;28;01melse\u001b[39;00m:\n\u001b[1;32m--> 776\u001b[0m       loop_state\u001b[38;5;241m.\u001b[39mAddWhileContext(op, between_op_list, between_ops)\n\u001b[0;32m    777\u001b[0m \u001b[38;5;28;01mreturn\u001b[39;00m loop_state\n",
      "File \u001b[1;32mc:\\Users\\jd.pradal\\AppData\\Local\\anaconda3\\Lib\\site-packages\\tensorflow\\python\\ops\\control_flow_state.py:579\u001b[0m, in \u001b[0;36m_ControlFlowState.AddWhileContext\u001b[1;34m(self, op, between_op_list, between_ops)\u001b[0m\n\u001b[0;32m    577\u001b[0m \u001b[38;5;28;01mif\u001b[39;00m outer_forward_ctxt:\n\u001b[0;32m    578\u001b[0m   outer_grad_state \u001b[38;5;241m=\u001b[39m \u001b[38;5;28mself\u001b[39m\u001b[38;5;241m.\u001b[39m_map\u001b[38;5;241m.\u001b[39mget(outer_forward_ctxt)\n\u001b[1;32m--> 579\u001b[0m grad_state \u001b[38;5;241m=\u001b[39m _GradLoopState(forward_ctxt, outer_grad_state)\n\u001b[0;32m    580\u001b[0m \u001b[38;5;28mself\u001b[39m\u001b[38;5;241m.\u001b[39m_map[forward_ctxt] \u001b[38;5;241m=\u001b[39m grad_state\n\u001b[0;32m    582\u001b[0m \u001b[38;5;66;03m# We need to include all exits of a loop for backprop.\u001b[39;00m\n",
      "File \u001b[1;32mc:\\Users\\jd.pradal\\AppData\\Local\\anaconda3\\Lib\\site-packages\\tensorflow\\python\\ops\\control_flow_state.py:163\u001b[0m, in \u001b[0;36m_GradLoopState.__init__\u001b[1;34m(self, forward_ctxt, outer_grad_state)\u001b[0m\n\u001b[0;32m    161\u001b[0m \u001b[38;5;28;01mif\u001b[39;00m outer_forward_ctxt:\n\u001b[0;32m    162\u001b[0m   outer_forward_ctxt\u001b[38;5;241m.\u001b[39mEnter()\n\u001b[1;32m--> 163\u001b[0m cnt, forward_index \u001b[38;5;241m=\u001b[39m forward_ctxt\u001b[38;5;241m.\u001b[39mAddForwardLoopCounter(outer_grad_state)\n\u001b[0;32m    164\u001b[0m \u001b[38;5;28;01mif\u001b[39;00m outer_forward_ctxt:\n\u001b[0;32m    165\u001b[0m   outer_forward_ctxt\u001b[38;5;241m.\u001b[39mExit()\n",
      "File \u001b[1;32mc:\\Users\\jd.pradal\\AppData\\Local\\anaconda3\\Lib\\site-packages\\tensorflow\\python\\ops\\control_flow_ops.py:1360\u001b[0m, in \u001b[0;36mWhileContext.AddForwardLoopCounter\u001b[1;34m(self, outer_grad_state)\u001b[0m\n\u001b[0;32m   1358\u001b[0m \u001b[38;5;28mself\u001b[39m\u001b[38;5;241m.\u001b[39mEnter()\n\u001b[0;32m   1359\u001b[0m \u001b[38;5;28mself\u001b[39m\u001b[38;5;241m.\u001b[39mAddName(n\u001b[38;5;241m.\u001b[39mname)\n\u001b[1;32m-> 1360\u001b[0m enter_n \u001b[38;5;241m=\u001b[39m _Enter(\n\u001b[0;32m   1361\u001b[0m     n,\n\u001b[0;32m   1362\u001b[0m     \u001b[38;5;28mself\u001b[39m\u001b[38;5;241m.\u001b[39m_name,\n\u001b[0;32m   1363\u001b[0m     is_constant\u001b[38;5;241m=\u001b[39m\u001b[38;5;28;01mFalse\u001b[39;00m,\n\u001b[0;32m   1364\u001b[0m     parallel_iterations\u001b[38;5;241m=\u001b[39m\u001b[38;5;28mself\u001b[39m\u001b[38;5;241m.\u001b[39m_parallel_iterations,\n\u001b[0;32m   1365\u001b[0m     name\u001b[38;5;241m=\u001b[39m\u001b[38;5;124m\"\u001b[39m\u001b[38;5;124mf_count\u001b[39m\u001b[38;5;124m\"\u001b[39m)\n\u001b[0;32m   1366\u001b[0m \u001b[38;5;28mself\u001b[39m\u001b[38;5;241m.\u001b[39mloop_enters\u001b[38;5;241m.\u001b[39mappend(enter_n)\n\u001b[0;32m   1368\u001b[0m merge_n \u001b[38;5;241m=\u001b[39m merge([enter_n, enter_n])[\u001b[38;5;241m0\u001b[39m]\n",
      "File \u001b[1;32mc:\\Users\\jd.pradal\\AppData\\Local\\anaconda3\\Lib\\site-packages\\tensorflow\\python\\ops\\control_flow_ops.py:135\u001b[0m, in \u001b[0;36m_Enter\u001b[1;34m(tensor, frame_name, is_constant, parallel_iterations, use_ref, use_input_shape, name)\u001b[0m\n\u001b[0;32m    132\u001b[0m   result \u001b[38;5;241m=\u001b[39m gen_control_flow_ops\u001b[38;5;241m.\u001b[39mref_enter(\n\u001b[0;32m    133\u001b[0m       tensor, frame_name, is_constant, parallel_iterations, name\u001b[38;5;241m=\u001b[39mname)\n\u001b[0;32m    134\u001b[0m \u001b[38;5;28;01melse\u001b[39;00m:\n\u001b[1;32m--> 135\u001b[0m   result \u001b[38;5;241m=\u001b[39m gen_control_flow_ops\u001b[38;5;241m.\u001b[39menter(\n\u001b[0;32m    136\u001b[0m       tensor, frame_name, is_constant, parallel_iterations, name\u001b[38;5;241m=\u001b[39mname)\n\u001b[0;32m    137\u001b[0m \u001b[38;5;28;01mif\u001b[39;00m use_input_shape:\n\u001b[0;32m    138\u001b[0m   result\u001b[38;5;241m.\u001b[39mset_shape(tensor\u001b[38;5;241m.\u001b[39mget_shape())\n",
      "File \u001b[1;32mc:\\Users\\jd.pradal\\AppData\\Local\\anaconda3\\Lib\\site-packages\\tensorflow\\python\\ops\\gen_control_flow_ops.py:181\u001b[0m, in \u001b[0;36menter\u001b[1;34m(data, frame_name, is_constant, parallel_iterations, name)\u001b[0m\n\u001b[0;32m    179\u001b[0m   parallel_iterations \u001b[38;5;241m=\u001b[39m \u001b[38;5;241m10\u001b[39m\n\u001b[0;32m    180\u001b[0m parallel_iterations \u001b[38;5;241m=\u001b[39m _execute\u001b[38;5;241m.\u001b[39mmake_int(parallel_iterations, \u001b[38;5;124m\"\u001b[39m\u001b[38;5;124mparallel_iterations\u001b[39m\u001b[38;5;124m\"\u001b[39m)\n\u001b[1;32m--> 181\u001b[0m _, _, _op, _outputs \u001b[38;5;241m=\u001b[39m _op_def_library\u001b[38;5;241m.\u001b[39m_apply_op_helper(\n\u001b[0;32m    182\u001b[0m       \u001b[38;5;124m\"\u001b[39m\u001b[38;5;124mEnter\u001b[39m\u001b[38;5;124m\"\u001b[39m, data\u001b[38;5;241m=\u001b[39mdata, frame_name\u001b[38;5;241m=\u001b[39mframe_name, is_constant\u001b[38;5;241m=\u001b[39mis_constant,\n\u001b[0;32m    183\u001b[0m                parallel_iterations\u001b[38;5;241m=\u001b[39mparallel_iterations, name\u001b[38;5;241m=\u001b[39mname)\n\u001b[0;32m    184\u001b[0m _result \u001b[38;5;241m=\u001b[39m _outputs[:]\n\u001b[0;32m    185\u001b[0m \u001b[38;5;28;01mif\u001b[39;00m _execute\u001b[38;5;241m.\u001b[39mmust_record_gradient():\n",
      "File \u001b[1;32mc:\\Users\\jd.pradal\\AppData\\Local\\anaconda3\\Lib\\site-packages\\tensorflow\\python\\framework\\op_def_library.py:796\u001b[0m, in \u001b[0;36m_apply_op_helper\u001b[1;34m(op_type_name, name, **keywords)\u001b[0m\n\u001b[0;32m    791\u001b[0m must_colocate_inputs \u001b[38;5;241m=\u001b[39m [val \u001b[38;5;28;01mfor\u001b[39;00m arg, val \u001b[38;5;129;01min\u001b[39;00m \u001b[38;5;28mzip\u001b[39m(op_def\u001b[38;5;241m.\u001b[39minput_arg, inputs)\n\u001b[0;32m    792\u001b[0m                         \u001b[38;5;28;01mif\u001b[39;00m arg\u001b[38;5;241m.\u001b[39mis_ref]\n\u001b[0;32m    793\u001b[0m \u001b[38;5;28;01mwith\u001b[39;00m _MaybeColocateWith(must_colocate_inputs):\n\u001b[0;32m    794\u001b[0m   \u001b[38;5;66;03m# Add Op to graph\u001b[39;00m\n\u001b[0;32m    795\u001b[0m   \u001b[38;5;66;03m# pylint: disable=protected-access\u001b[39;00m\n\u001b[1;32m--> 796\u001b[0m   op \u001b[38;5;241m=\u001b[39m g\u001b[38;5;241m.\u001b[39m_create_op_internal(op_type_name, inputs, dtypes\u001b[38;5;241m=\u001b[39m\u001b[38;5;28;01mNone\u001b[39;00m,\n\u001b[0;32m    797\u001b[0m                              name\u001b[38;5;241m=\u001b[39mscope, input_types\u001b[38;5;241m=\u001b[39minput_types,\n\u001b[0;32m    798\u001b[0m                              attrs\u001b[38;5;241m=\u001b[39mattr_protos, op_def\u001b[38;5;241m=\u001b[39mop_def)\n\u001b[0;32m    800\u001b[0m \u001b[38;5;66;03m# `outputs` is returned as a separate return value so that the output\u001b[39;00m\n\u001b[0;32m    801\u001b[0m \u001b[38;5;66;03m# tensors can the `op` per se can be decoupled so that the\u001b[39;00m\n\u001b[0;32m    802\u001b[0m \u001b[38;5;66;03m# `op_callbacks` can function properly. See framework/op_callbacks.py\u001b[39;00m\n\u001b[0;32m    803\u001b[0m \u001b[38;5;66;03m# for more details.\u001b[39;00m\n\u001b[0;32m    804\u001b[0m outputs \u001b[38;5;241m=\u001b[39m op\u001b[38;5;241m.\u001b[39moutputs\n",
      "File \u001b[1;32mc:\\Users\\jd.pradal\\AppData\\Local\\anaconda3\\Lib\\site-packages\\tensorflow\\python\\framework\\ops.py:2652\u001b[0m, in \u001b[0;36mGraph._create_op_internal\u001b[1;34m(self, op_type, inputs, dtypes, input_types, name, attrs, op_def, compute_device)\u001b[0m\n\u001b[0;32m   2649\u001b[0m \u001b[38;5;66;03m# _create_op_helper mutates the new Operation. `_mutation_lock` ensures a\u001b[39;00m\n\u001b[0;32m   2650\u001b[0m \u001b[38;5;66;03m# Session.run call cannot occur between creating and mutating the op.\u001b[39;00m\n\u001b[0;32m   2651\u001b[0m \u001b[38;5;28;01mwith\u001b[39;00m \u001b[38;5;28mself\u001b[39m\u001b[38;5;241m.\u001b[39m_mutation_lock():\n\u001b[1;32m-> 2652\u001b[0m   ret \u001b[38;5;241m=\u001b[39m Operation\u001b[38;5;241m.\u001b[39mfrom_node_def(\n\u001b[0;32m   2653\u001b[0m       node_def,\n\u001b[0;32m   2654\u001b[0m       \u001b[38;5;28mself\u001b[39m,\n\u001b[0;32m   2655\u001b[0m       inputs\u001b[38;5;241m=\u001b[39minputs,\n\u001b[0;32m   2656\u001b[0m       output_types\u001b[38;5;241m=\u001b[39mdtypes,\n\u001b[0;32m   2657\u001b[0m       control_inputs\u001b[38;5;241m=\u001b[39mcontrol_inputs,\n\u001b[0;32m   2658\u001b[0m       input_types\u001b[38;5;241m=\u001b[39minput_types,\n\u001b[0;32m   2659\u001b[0m       original_op\u001b[38;5;241m=\u001b[39m\u001b[38;5;28mself\u001b[39m\u001b[38;5;241m.\u001b[39m_default_original_op,\n\u001b[0;32m   2660\u001b[0m       op_def\u001b[38;5;241m=\u001b[39mop_def,\n\u001b[0;32m   2661\u001b[0m   )\n\u001b[0;32m   2662\u001b[0m   \u001b[38;5;28mself\u001b[39m\u001b[38;5;241m.\u001b[39m_create_op_helper(ret, compute_device\u001b[38;5;241m=\u001b[39mcompute_device)\n\u001b[0;32m   2663\u001b[0m \u001b[38;5;28;01mreturn\u001b[39;00m ret\n",
      "File \u001b[1;32mc:\\Users\\jd.pradal\\AppData\\Local\\anaconda3\\Lib\\site-packages\\tensorflow\\python\\framework\\ops.py:1167\u001b[0m, in \u001b[0;36mOperation.from_node_def\u001b[1;34m(***failed resolving arguments***)\u001b[0m\n\u001b[0;32m   1164\u001b[0m \u001b[38;5;28mself\u001b[39m\u001b[38;5;241m.\u001b[39m_original_op \u001b[38;5;241m=\u001b[39m original_op\n\u001b[0;32m   1166\u001b[0m \u001b[38;5;66;03m# Post process for control flows.\u001b[39;00m\n\u001b[1;32m-> 1167\u001b[0m \u001b[38;5;28mself\u001b[39m\u001b[38;5;241m.\u001b[39m_control_flow_post_processing(input_tensors\u001b[38;5;241m=\u001b[39minputs)\n\u001b[0;32m   1169\u001b[0m \u001b[38;5;28;01mreturn\u001b[39;00m \u001b[38;5;28mself\u001b[39m\n",
      "File \u001b[1;32mc:\\Users\\jd.pradal\\AppData\\Local\\anaconda3\\Lib\\site-packages\\tensorflow\\python\\framework\\ops.py:1230\u001b[0m, in \u001b[0;36mOperation._control_flow_post_processing\u001b[1;34m(self, input_tensors)\u001b[0m\n\u001b[0;32m   1228\u001b[0m   input_tensors \u001b[38;5;241m=\u001b[39m \u001b[38;5;28mself\u001b[39m\u001b[38;5;241m.\u001b[39minputs\n\u001b[0;32m   1229\u001b[0m \u001b[38;5;28;01mfor\u001b[39;00m input_tensor \u001b[38;5;129;01min\u001b[39;00m input_tensors:\n\u001b[1;32m-> 1230\u001b[0m   control_flow_util\u001b[38;5;241m.\u001b[39mCheckInputFromValidContext(\u001b[38;5;28mself\u001b[39m, input_tensor\u001b[38;5;241m.\u001b[39mop)\n\u001b[0;32m   1231\u001b[0m \u001b[38;5;28;01mif\u001b[39;00m \u001b[38;5;28mself\u001b[39m\u001b[38;5;241m.\u001b[39m_control_flow_context \u001b[38;5;129;01mis\u001b[39;00m \u001b[38;5;129;01mnot\u001b[39;00m \u001b[38;5;28;01mNone\u001b[39;00m:\n\u001b[0;32m   1232\u001b[0m   \u001b[38;5;28mself\u001b[39m\u001b[38;5;241m.\u001b[39m_control_flow_context\u001b[38;5;241m.\u001b[39mAddOp(\u001b[38;5;28mself\u001b[39m)\n",
      "File \u001b[1;32mc:\\Users\\jd.pradal\\AppData\\Local\\anaconda3\\Lib\\site-packages\\tensorflow\\python\\ops\\control_flow_util.py:359\u001b[0m, in \u001b[0;36mCheckInputFromValidContext\u001b[1;34m(op, input_op)\u001b[0m\n\u001b[0;32m    355\u001b[0m log_msg \u001b[38;5;241m+\u001b[39m\u001b[38;5;241m=\u001b[39m \u001b[38;5;124m\"\u001b[39m\u001b[38;5;130;01m\\n\u001b[39;00m\u001b[38;5;130;01m\\n\u001b[39;00m\u001b[38;5;124mTraceback for \u001b[39m\u001b[38;5;132;01m%s\u001b[39;00m\u001b[38;5;124m:\u001b[39m\u001b[38;5;130;01m\\n\u001b[39;00m\u001b[38;5;132;01m%s\u001b[39;00m\u001b[38;5;130;01m\\n\u001b[39;00m\u001b[38;5;124mTraceback for \u001b[39m\u001b[38;5;132;01m%s\u001b[39;00m\u001b[38;5;124m:\u001b[39m\u001b[38;5;130;01m\\n\u001b[39;00m\u001b[38;5;132;01m%s\u001b[39;00m\u001b[38;5;130;01m\\n\u001b[39;00m\u001b[38;5;124m\"\u001b[39m \u001b[38;5;241m%\u001b[39m (\n\u001b[0;32m    356\u001b[0m     op\u001b[38;5;241m.\u001b[39mname, \u001b[38;5;124m\"\u001b[39m\u001b[38;5;124m\"\u001b[39m\u001b[38;5;241m.\u001b[39mjoin(traceback\u001b[38;5;241m.\u001b[39mformat_list(op\u001b[38;5;241m.\u001b[39mtraceback)),\n\u001b[0;32m    357\u001b[0m     input_op\u001b[38;5;241m.\u001b[39mname, \u001b[38;5;124m\"\u001b[39m\u001b[38;5;124m\"\u001b[39m\u001b[38;5;241m.\u001b[39mjoin(traceback\u001b[38;5;241m.\u001b[39mformat_list(input_op\u001b[38;5;241m.\u001b[39mtraceback)))\n\u001b[0;32m    358\u001b[0m logging\u001b[38;5;241m.\u001b[39minfo(log_msg)\n\u001b[1;32m--> 359\u001b[0m \u001b[38;5;28;01mraise\u001b[39;00m \u001b[38;5;167;01mValueError\u001b[39;00m(error_msg \u001b[38;5;241m+\u001b[39m \u001b[38;5;124m\"\u001b[39m\u001b[38;5;124m See info log for more details.\u001b[39m\u001b[38;5;124m\"\u001b[39m)\n",
      "\u001b[1;31mValueError\u001b[0m: Cannot use 'training/while/gradients/f_count' as input to 'training/while/gradients/f_count_1' because they are in different while loops. See info log for more details."
     ]
    }
   ],
   "source": [
    "y_hat_TFP,y_test_TFP,fecha_y_test_TFP, history_TFP,NE_TFP = LSTM_TFP_JD(datos,ventana,prediccion,fechas,nodos1,nodos2,paciencia,epocas,batch,activacion1,activacion2,activacion3,clip,ruido,microBatches,lr,size_test,size_val,f\"{nombre} TFP\")\n"
   ]
  },
  {
   "cell_type": "code",
   "execution_count": null,
   "metadata": {},
   "outputs": [],
   "source": [
    "num = 10\n",
    "plt.plot(y_hat_TFP[num])\n",
    "plt.plot(y_test_TFP[num])"
   ]
  },
  {
   "cell_type": "code",
   "execution_count": null,
   "metadata": {},
   "outputs": [],
   "source": [
    "\n",
    "plt.plot(history_TFP.history['loss'][:],label = \"Loss\")\n",
    "plt.plot(history_TFP.history['val_loss'][:],label = \"Val Loss\")\n",
    "plt.legend()"
   ]
  },
  {
   "cell_type": "markdown",
   "metadata": {},
   "source": [
    "## comparar TF con Normal"
   ]
  },
  {
   "cell_type": "code",
   "execution_count": null,
   "metadata": {},
   "outputs": [],
   "source": [
    "### abrir modelo sin ruido "
   ]
  },
  {
   "cell_type": "code",
   "execution_count": null,
   "metadata": {},
   "outputs": [],
   "source": [
    "modelo = load_model('C:\\\\Users\\\\jd.pradal\\\\OneDrive - Universidad de los andes\\\\Documentos\\\\Maestría\\\\Tesis Maestría\\\\Modelos\\\\Datos Sintéticos\\\\1 frecuencia\\\\Archivos_Modelos_LSTM\\\\Seno_freq_30_amplitud_10_ruido3 Sin ruido_Modelo_150_nodos1_150_nodos2_70_Epocas_40_Batch_t_r_lvent120.keras')\n",
    "\n",
    "y_hat_sinRuido, y_test_sinRuido,fecha_y_test_sinRuido,prediccion_sinRuido = Abrir_Modelo(datos,fechas,modelo,ventana,prediccion,size_test)"
   ]
  },
  {
   "cell_type": "code",
   "execution_count": null,
   "metadata": {},
   "outputs": [],
   "source": [
    "num = 30\n",
    "plt.plot(y_hat_TFP[num],label = \"Predicción TFP\")\n",
    "plt.plot(y_hat_sinRuido[num],label = \"Predicción sin ruido\")\n",
    "plt.plot(y_test_TFP[num],label = \"Real\")\n",
    "plt.legend()"
   ]
  },
  {
   "cell_type": "code",
   "execution_count": null,
   "metadata": {},
   "outputs": [],
   "source": [
    "NE_TFP"
   ]
  },
  {
   "cell_type": "code",
   "execution_count": null,
   "metadata": {},
   "outputs": [],
   "source": [
    "ruido"
   ]
  },
  {
   "cell_type": "code",
   "execution_count": null,
   "metadata": {},
   "outputs": [],
   "source": [
    "from tensorflow_privacy.privacy.analysis.compute_dp_sgd_privacy_lib import compute_dp_sgd_privacy_statement\n",
    "\n",
    "# Parámetros correctos para la función\n",
    "epsilon = compute_dp_sgd_privacy_statement(\n",
    "    number_of_examples = NE_TFP, # Aquí usamos 'num_examples' en lugar de 'n'\n",
    "    batch_size=batch,\n",
    "    noise_multiplier= 1,\n",
    "    delta=1e-5,\n",
    "    num_epochs = epocas\n",
    ")\n",
    "\n",
    "print(f\"Epsilon: {epsilon}\")\n"
   ]
  },
  {
   "cell_type": "code",
   "execution_count": null,
   "metadata": {},
   "outputs": [],
   "source": [
    "from tensorflow_privacy.privacy.analysis.compute_dp_sgd_privacy_lib import compute_dp_sgd_privacy\n",
    "\n",
    "# Parámetros correctos para la función\n",
    "epsilon, _ = compute_dp_sgd_privacy(\n",
    "    n=35430,               # Número total de ejemplos en el conjunto de datos\n",
    "    batch_size=batch,      # Tamaño de cada lote o batch\n",
    "    noise_multiplier=ruido, # Multiplicador de ruido usado en el optimizador DP\n",
    "    epochs=epocas,         # Número de épocas de entrenamiento\n",
    "    delta=1e-5             # Valor de delta, típico en privacidad diferencial\n",
    ")\n",
    "\n",
    "print(f\"Epsilon: {epsilon}\")\n"
   ]
  },
  {
   "cell_type": "code",
   "execution_count": null,
   "metadata": {},
   "outputs": [],
   "source": [
    "from tensorflow_privacy.privacy.analysis.compute_dp_sgd_privacy_lib import compute_dp_sgd_privacy_statement\n",
    "\n",
    "# Parámetros correctos para la función\n",
    "epsilon = compute_dp_sgd_privacy_statement(\n",
    "    number_of_examples=35430,   # Número total de ejemplos en el conjunto de datos\n",
    "    batch_size=batch,           # Tamaño de cada lote\n",
    "    noise_multiplier=ruido,     # Multiplicador de ruido usado en el optimizador DP\n",
    "    delta=1e-5,                 # Delta para privacidad diferencial\n",
    "    num_epochs=epocas           # Número de épocas de entrenamiento\n",
    ")\n",
    "\n",
    "print(f\"Epsilon: {epsilon}\")\n"
   ]
  }
 ],
 "metadata": {
  "kernelspec": {
   "display_name": "base",
   "language": "python",
   "name": "python3"
  },
  "language_info": {
   "codemirror_mode": {
    "name": "ipython",
    "version": 3
   },
   "file_extension": ".py",
   "mimetype": "text/x-python",
   "name": "python",
   "nbconvert_exporter": "python",
   "pygments_lexer": "ipython3",
   "version": "3.11.4"
  }
 },
 "nbformat": 4,
 "nbformat_minor": 2
}
