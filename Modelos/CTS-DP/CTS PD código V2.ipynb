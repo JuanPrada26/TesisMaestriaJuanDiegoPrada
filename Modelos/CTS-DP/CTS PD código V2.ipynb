{
 "cells": [
  {
   "cell_type": "code",
   "execution_count": 569,
   "metadata": {},
   "outputs": [],
   "source": [
    "import pandas as pd\n",
    "import numpy as np\n",
    "import matplotlib.pyplot as plt\n",
    "import statsmodels.api as sm\n",
    "\n",
    "from scipy.fft import fft, ifft, fftfreq\n",
    "import scipy.signal as signal\n"
   ]
  },
  {
   "cell_type": "markdown",
   "metadata": {},
   "source": [
    "![Texto alternativo](CTSPDalgoritmo.jpg)\n"
   ]
  },
  {
   "cell_type": "code",
   "execution_count": 570,
   "metadata": {},
   "outputs": [],
   "source": [
    "df = pd.read_csv(\"C:\\\\Users\\\\jd.pradal\\\\OneDrive - Universidad de los andes\\\\Documentos\\\\Maestría\\\\TESIS JUAN DIEGO PRADA\\\\Tesis 2\\\\Código\\\\Descarga Datos K\\\\Hourly Energy Consumption\\\\archiv\\\\AEP_hourly.csv\")\n",
    "\n",
    "\n",
    "df['Datetime'] = pd.to_datetime(df['Datetime'], format='%Y-%m-%d %H:%M:%S')\n",
    "df.sort_values(by='Datetime',inplace = True)\n",
    "df.reset_index(drop=True, inplace=True)"
   ]
  },
  {
   "cell_type": "code",
   "execution_count": 571,
   "metadata": {},
   "outputs": [],
   "source": [
    "datos = df[:8760]\n",
    "datos = df[:500]"
   ]
  },
  {
   "cell_type": "markdown",
   "metadata": {},
   "source": [
    "# ALGORITMO"
   ]
  },
  {
   "cell_type": "markdown",
   "metadata": {},
   "source": [
    "## 1. the data owner calculates the auto - correlation function $R_{XX}(\\tau)$ of the time series X to be released. "
   ]
  },
  {
   "cell_type": "code",
   "execution_count": 572,
   "metadata": {},
   "outputs": [],
   "source": [
    "# función de autocorrelación de los datos: \n",
    "Rxx = sm.tsa.acf(datos['AEP_MW'], nlags=(len(datos['AEP_MW'])-1))\n"
   ]
  },
  {
   "cell_type": "markdown",
   "metadata": {},
   "source": [
    "\n",
    "## 2. the data owner generates four IID Gauss white nouse series with the same lenght as X. their distribution satisfies $ G_{i} - N(0, \\sqrt{2 \\lambda} )...  \\lambda =  \\frac{ \\Delta f} {\\epsilon}, i \\in {1,2,3,4} $\n"
   ]
  },
  {
   "cell_type": "code",
   "execution_count": 573,
   "metadata": {},
   "outputs": [],
   "source": [
    "\n",
    "# 2. # Generar 4 ruido blanco gaussiano\n",
    "\n",
    "epsilon = 0.1\n",
    "#loc = media, scale = desviacion\n",
    "\n",
    "deltaF = 1\n",
    "\n",
    "# Calcula lambda\n",
    "l = deltaF / epsilon\n",
    "\n",
    "# Calcula la desviación estándar del ruido blanco\n",
    "desv = np.sqrt(2 * l)\n",
    "\n",
    "\n",
    "# Genera las cuatro series de ruido blanco\n",
    "\n",
    "# G1 = np.random.normal(loc=0, scale=desv, size=len(datos))\n",
    "# G2 = np.random.normal(loc=0, scale=desv, size=len(datos))\n",
    "# G3 = np.random.normal(loc=0, scale=desv, size=len(datos))\n",
    "# G4 = np.random.normal(loc=0, scale=desv, size=len(datos))\n",
    "    \n",
    "    \n",
    "G1 = np.random.normal(loc=0, scale=1, size=len(datos))\n",
    "G2 = np.random.normal(loc=0, scale=1, size=len(datos))\n",
    "G3 = np.random.normal(loc=0, scale=1, size=len(datos))\n",
    "G4 = np.random.normal(loc=0, scale=1, size=len(datos))"
   ]
  },
  {
   "cell_type": "markdown",
   "metadata": {},
   "source": [
    "## 3.  let $ G_1, G_2, G_3, G_4$ pass through a specific filter whose impulse response $ h(\\tau) is  \\sqrt{\\frac{R_{xx}(\\tau)}{16 \\pi N_0}} $ and obtain four new gauss noise series  $ G´_1, G´_2, G´_3, G´_4$ with the autocorrelation funcion $ R_{G´}(\\tau) = \\sqrt{\\frac{R_{xx}(\\tau)}{8}} $\n"
   ]
  },
  {
   "cell_type": "code",
   "execution_count": 574,
   "metadata": {},
   "outputs": [],
   "source": [
    "\n",
    "\n",
    "def psd(Rxx, dt):\n",
    "    n = len(Rxx)\n",
    "    psd = np.abs(fft(np.sqrt(Rxx/8+0j), 2*n))**2\n",
    "    freq = fftfreq(2*n, dt)\n",
    "    psd = psd[:n]\n",
    "    freq = freq[:n]\n",
    "    return psd, freq"
   ]
  },
  {
   "cell_type": "code",
   "execution_count": 575,
   "metadata": {},
   "outputs": [],
   "source": [
    "# PSD de la función x\n",
    "PSD_RXX1,frecuencias_RXX1 = psd(Rxx,1)\n",
    "N_01 = np.var(G1) \n",
    "\n",
    "\n",
    "\n",
    "# PSD de la función x\n",
    "PSD_RXX2,frecuencias_RXX2 = psd(Rxx,1)\n",
    "N_02 = np.var(G2) \n",
    "\n",
    "# PSD de la función x\n",
    "PSD_RXX3,frecuencias_RXX3 = psd(Rxx,1)\n",
    "N_03 = np.var(G3) \n",
    "\n",
    "\n",
    "# PSD de la función x\n",
    "PSD_RXX4,frecuencias_RXX4 = psd(Rxx,1)\n",
    "N_04 = np.var(G4) \n"
   ]
  },
  {
   "cell_type": "code",
   "execution_count": 576,
   "metadata": {},
   "outputs": [],
   "source": [
    "H_W1 = PSD_RXX1/N_01\n",
    "\n",
    "H_W2 = PSD_RXX2/N_02\n",
    "\n",
    "H_W3 = PSD_RXX3/N_03\n",
    "\n",
    "H_W4 = PSD_RXX4/N_04\n"
   ]
  },
  {
   "cell_type": "code",
   "execution_count": 577,
   "metadata": {},
   "outputs": [],
   "source": [
    "G1_DFT = fft(G1)\n",
    "\n",
    "G2_DFT = fft(G2)\n",
    "\n",
    "G3_DFT = fft(G3)\n",
    "\n",
    "G4_DFT = fft(G4)\n"
   ]
  },
  {
   "cell_type": "code",
   "execution_count": 578,
   "metadata": {},
   "outputs": [],
   "source": [
    "Filtro1 = G1_DFT * H_W1\n",
    "\n",
    "Filtro2 = G2_DFT * H_W2\n",
    "\n",
    "Filtro3 = G3_DFT * H_W3\n",
    "\n",
    "Filtro4 = G4_DFT * H_W4"
   ]
  },
  {
   "cell_type": "code",
   "execution_count": 579,
   "metadata": {},
   "outputs": [],
   "source": [
    "G1_prima = ifft(Filtro1).real\n",
    "\n",
    "G2_prima = ifft(Filtro2).real\n",
    "\n",
    "G3_prima = ifft(Filtro3).real\n",
    "\n",
    "G4_prima = ifft(Filtro4).real"
   ]
  },
  {
   "cell_type": "code",
   "execution_count": null,
   "metadata": {},
   "outputs": [],
   "source": []
  },
  {
   "cell_type": "code",
   "execution_count": 580,
   "metadata": {},
   "outputs": [],
   "source": [
    "suma = np.add(np.power(G1_prima,2),np.power(G2_prima,2))\n",
    "\n",
    "resta = np.subtract(suma,np.power(G3_prima,2))\n",
    "\n",
    "Z = np.subtract(resta,np.power(G4_prima,2))\n",
    "\n"
   ]
  },
  {
   "cell_type": "code",
   "execution_count": 581,
   "metadata": {},
   "outputs": [],
   "source": [
    "\n",
    "#G1_prima = signal.convolve(G1, h_tau, mode='same')\n",
    "RZ = sm.tsa.acf(Z, nlags=(len(Z)-1))"
   ]
  },
  {
   "cell_type": "code",
   "execution_count": 582,
   "metadata": {},
   "outputs": [
    {
     "data": {
      "text/plain": [
       "<matplotlib.legend.Legend at 0x263c0b5b750>"
      ]
     },
     "execution_count": 582,
     "metadata": {},
     "output_type": "execute_result"
    },
    {
     "data": {
      "image/png": "[encoded data removed]",
      "text/plain": [
       "<Figure size 640x480 with 1 Axes>"
      ]
     },
     "metadata": {},
     "output_type": "display_data"
    }
   ],
   "source": [
    "plt.plot(Rxx,label = \"original\")\n",
    "plt.plot(RZ,label = \"z\")\n",
    "plt.legend()\n"
   ]
  },
  {
   "cell_type": "code",
   "execution_count": 583,
   "metadata": {},
   "outputs": [],
   "source": [
    "def CTSDP(datos):\n",
    "    # función de autocorrelación de los datos: \n",
    "    Rxx = sm.tsa.acf(datos['AEP_MW'], nlags=(len(datos['AEP_MW'])-1))\n",
    "\n",
    "        \n",
    "    # Calcular ruido blanco    \n",
    "    G1 = np.random.normal(loc=0, scale=1, size=len(datos))\n",
    "    G2 = np.random.normal(loc=0, scale=1, size=len(datos))\n",
    "    G3 = np.random.normal(loc=0, scale=1, size=len(datos))\n",
    "    G4 = np.random.normal(loc=0, scale=1, size=len(datos))\n",
    "        \n",
    "\n",
    "    # PSD de la función x\n",
    "    PSD_RXX1,frecuencias_RXX1 = psd(Rxx,1)\n",
    "    N_01 = np.var(G1) \n",
    "\n",
    "\n",
    "\n",
    "    # PSD de la función x\n",
    "    PSD_RXX2,frecuencias_RXX2 = psd(Rxx,1)\n",
    "    N_02 = np.var(G2) \n",
    "\n",
    "\n",
    "    # PSD de la función x\n",
    "    PSD_RXX3,frecuencias_RXX3 = psd(Rxx,1)\n",
    "    N_03 = np.var(G3) \n",
    "\n",
    "\n",
    "\n",
    "    # PSD de la función x\n",
    "    PSD_RXX4,frecuencias_RXX4 = psd(Rxx,1)\n",
    "    N_04 = np.var(G4) \n",
    "\n",
    "\n",
    "\n",
    "    H_W1 = PSD_RXX1/N_01\n",
    "\n",
    "    H_W2 = PSD_RXX2/N_02\n",
    "\n",
    "    H_W3 = PSD_RXX3/N_03\n",
    "\n",
    "    H_W4 = PSD_RXX4/N_04\n",
    "\n",
    "    # Pasar ruido Blanco a dominio de frecuencias\n",
    "    G1_DFT = fft(G1)\n",
    "\n",
    "    G2_DFT = fft(G2)\n",
    "\n",
    "    G3_DFT = fft(G3)\n",
    "\n",
    "    G4_DFT = fft(G4)\n",
    "\n",
    "    # encontrar autocorrelación del ruido\n",
    "    Filtro1 = G1_DFT * H_W1\n",
    "\n",
    "    Filtro2 = G2_DFT * H_W2\n",
    "\n",
    "    Filtro3 = G3_DFT * H_W3\n",
    "    Filtro4 = G4_DFT * H_W4\n",
    "\n",
    "    # devolver a dominio del tiempo\n",
    "    \n",
    "    G1_prima = ifft(Filtro1).real\n",
    "\n",
    "    G2_prima = ifft(Filtro2).real\n",
    "\n",
    "    G3_prima = ifft(Filtro3).real\n",
    "\n",
    "    G4_prima = ifft(Filtro4).real\n",
    "\n",
    "    # encontrar Z \n",
    "    suma = np.add(np.power(G1_prima,2),np.power(G2_prima,2))\n",
    "\n",
    "    resta = np.subtract(suma,np.power(G3_prima,2))\n",
    "\n",
    "    Z = np.subtract(resta,np.power(G4_prima,2))\n",
    "\n",
    "    #G1_prima = signal.convolve(G1, h_tau, mode='same')\n",
    "    RZ = sm.tsa.acf(Z, nlags=(len(Z)-1))\n",
    "\n",
    "\n",
    "\n",
    "    return RZ"
   ]
  },
  {
   "cell_type": "code",
   "execution_count": 584,
   "metadata": {},
   "outputs": [
    {
     "data": {
      "text/plain": [
       "1"
      ]
     },
     "execution_count": 584,
     "metadata": {},
     "output_type": "execute_result"
    }
   ],
   "source": [
    "N_02"
   ]
  },
  {
   "cell_type": "code",
   "execution_count": 585,
   "metadata": {},
   "outputs": [
    {
     "data": {
      "text/plain": [
       "1"
      ]
     },
     "execution_count": 585,
     "metadata": {},
     "output_type": "execute_result"
    }
   ],
   "source": [
    "N_01"
   ]
  },
  {
   "cell_type": "code",
   "execution_count": 586,
   "metadata": {},
   "outputs": [
    {
     "data": {
      "text/plain": [
       "1"
      ]
     },
     "execution_count": 586,
     "metadata": {},
     "output_type": "execute_result"
    }
   ],
   "source": [
    "N_03"
   ]
  },
  {
   "cell_type": "code",
   "execution_count": 587,
   "metadata": {},
   "outputs": [],
   "source": [
    "RZ /= np.max(RZ)"
   ]
  },
  {
   "cell_type": "code",
   "execution_count": null,
   "metadata": {},
   "outputs": [],
   "source": []
  },
  {
   "cell_type": "markdown",
   "metadata": {},
   "source": [
    "## 4. Calculate Z =  $ G´_1^{2}+ G´_2^{2}- G´_3^{2}- G´_4$\n"
   ]
  },
  {
   "cell_type": "code",
   "execution_count": null,
   "metadata": {},
   "outputs": [],
   "source": []
  },
  {
   "cell_type": "markdown",
   "metadata": {},
   "source": [
    "## 5 add noise series Z into X and obtain the time series X' = X+Z\n"
   ]
  },
  {
   "cell_type": "code",
   "execution_count": null,
   "metadata": {},
   "outputs": [],
   "source": []
  },
  {
   "cell_type": "markdown",
   "metadata": {},
   "source": [
    "\n",
    "## Return X' "
   ]
  },
  {
   "cell_type": "code",
   "execution_count": null,
   "metadata": {},
   "outputs": [],
   "source": []
  },
  {
   "cell_type": "code",
   "execution_count": null,
   "metadata": {},
   "outputs": [],
   "source": []
  }
 ],
 "metadata": {
  "kernelspec": {
   "display_name": "Contugas-m7l_E1hd",
   "language": "python",
   "name": "python3"
  },
  "language_info": {
   "codemirror_mode": {
    "name": "ipython",
    "version": 3
   },
   "file_extension": ".py",
   "mimetype": "text/x-python",
   "name": "python",
   "nbconvert_exporter": "python",
   "pygments_lexer": "ipython3",
   "version": "3.11.4"
  }
 },
 "nbformat": 4,
 "nbformat_minor": 2
}
